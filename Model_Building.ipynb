{
 "cells": [
  {
   "cell_type": "markdown",
   "source": [
    "<h1 align='center'>  HR ANALYTICS CHALLENGE </h1>\r\n",
    "<h3 align='center'> <b>Predict Whether a Potential Promotee Will be Promoted or Not</b> </h3>"
   ],
   "metadata": {}
  },
  {
   "cell_type": "markdown",
   "source": [
    "### **The Challenge**\r\n",
    "\r\n",
    "HR analytics is revolutionising the way human resources departments operate, leading to higher efficiency and better results overall. Human resources has been using analytics for years. However, the collection, processing and analysis of data has been largely manual, and given the nature of human resources dynamics and HR KPIs, the approach has been constraining HR. Therefore, it is surprising that HR departments woke up to the utility of machine learning so late in the game. "
   ],
   "metadata": {}
  },
  {
   "cell_type": "markdown",
   "source": [
    "## 0. Import relevant Dependencies\r\n",
    "\r\n",
    "Incase you are getting any error saying the package is not installed while running the below cell, then you can use two methods:\r\n",
    "- pip install ________.\r\n",
    "- google 'How to install ________'."
   ],
   "metadata": {}
  },
  {
   "cell_type": "code",
   "execution_count": 1,
   "source": [
    "# Import Dependencies -To see the graphs in the notebook.\r\n",
    "%matplotlib inline   \r\n",
    "\r\n",
    "# Python Imports\r\n",
    "import math,time,random,datetime\r\n",
    "\r\n",
    "# Data Manipulation\r\n",
    "import numpy as np\r\n",
    "import pandas as pd\r\n",
    "\r\n",
    "# Visualization -This is where the graphs come in.\r\n",
    "import matplotlib.pyplot as plt\r\n",
    "import seaborn as sns\r\n",
    "import missingno\r\n",
    "plt.style.use('fivethirtyeight')\r\n",
    "\r\n",
    "# Preprocessing\r\n",
    "from sklearn.preprocessing import OneHotEncoder, LabelEncoder, label_binarize\r\n",
    "\r\n",
    "# Machine Learning\r\n",
    "import catboost\r\n",
    "from sklearn.model_selection import train_test_split\r\n",
    "from sklearn import model_selection, tree, preprocessing, metrics, linear_model\r\n",
    "from sklearn.svm import LinearSVC\r\n",
    "from sklearn.ensemble import GradientBoostingClassifier\r\n",
    "from sklearn.neighbors import KNeighborsClassifier\r\n",
    "from sklearn.naive_bayes import GaussianNB\r\n",
    "from sklearn.linear_model import LogisticRegression, SGDClassifier\r\n",
    "from sklearn.tree import DecisionTreeClassifier\r\n",
    "from sklearn.ensemble import RandomForestClassifier\r\n",
    "from catboost import CatBoostClassifier, Pool, cv\r\n",
    "\r\n",
    "# Performance Metrics\r\n",
    "from sklearn.metrics import accuracy_score\r\n",
    "from sklearn.metrics import precision_score\r\n",
    "from sklearn.metrics import recall_score\r\n",
    "from sklearn.metrics import f1_score\r\n",
    "\r\n",
    "# Ignore Warnings\r\n",
    "import warnings\r\n",
    "warnings.filterwarnings('ignore')\r\n",
    "\r\n",
    "# Display all the columns/rows of the DataFrame.\r\n",
    "pd.set_option('display.max_columns', None)\r\n",
    "pd.set_option('display.max_rows', None)"
   ],
   "outputs": [],
   "metadata": {}
  },
  {
   "cell_type": "markdown",
   "source": [
    "## 0. Loading the required Data"
   ],
   "metadata": {}
  },
  {
   "cell_type": "code",
   "execution_count": 2,
   "source": [
    "# Import the train data.\r\n",
    "train = pd.read_csv('Final_train.csv')"
   ],
   "outputs": [],
   "metadata": {}
  },
  {
   "cell_type": "markdown",
   "source": [
    "## 1. Model Building\r\n",
    "\r\n",
    "### Algorithms\r\n",
    "From here, we will be running the following algorithms.\r\n",
    "\r\n",
    "- Logistic Regression\r\n",
    "- KNN\r\n",
    "- Naive Bayes\r\n",
    "- Stochastic Gradient Decent\r\n",
    "- Linear SVC\r\n",
    "- Decision Tree\r\n",
    "- Gradient Boosted Trees\r\n",
    "- Random Forest\r\n",
    "- CatBoost Algorithm"
   ],
   "metadata": {}
  },
  {
   "cell_type": "code",
   "execution_count": 3,
   "source": [
    "train.head()"
   ],
   "outputs": [
    {
     "output_type": "execute_result",
     "data": {
      "text/plain": [
       "   is_promoted  department  education  gender  recruitment_channel  \\\n",
       "0            0           7          2       0                    2   \n",
       "1            0           4          0       1                    0   \n",
       "2            0           7          0       1                    2   \n",
       "3            0           7          0       1                    0   \n",
       "4            0           8          0       1                    0   \n",
       "\n",
       "   no_of_trainings  previous_year_rating  length_of_service  KPIs_met >80%  \\\n",
       "0        -0.415276              1.385021           0.500460       1.356878   \n",
       "1        -0.415276              1.385021          -0.437395      -0.736986   \n",
       "2        -0.415276             -0.259125           0.265996      -0.736986   \n",
       "3         1.226063             -1.903271           0.969387      -0.736986   \n",
       "4        -0.415276             -0.259125          -0.906322      -0.736986   \n",
       "\n",
       "   awards_won?  avg_training_score  \n",
       "0    -0.154018           -1.075931  \n",
       "1    -0.154018           -0.253282  \n",
       "2    -0.154018           -1.001145  \n",
       "3    -0.154018           -1.001145  \n",
       "4    -0.154018            0.718939  "
      ],
      "text/html": [
       "<div>\n",
       "<style scoped>\n",
       "    .dataframe tbody tr th:only-of-type {\n",
       "        vertical-align: middle;\n",
       "    }\n",
       "\n",
       "    .dataframe tbody tr th {\n",
       "        vertical-align: top;\n",
       "    }\n",
       "\n",
       "    .dataframe thead th {\n",
       "        text-align: right;\n",
       "    }\n",
       "</style>\n",
       "<table border=\"1\" class=\"dataframe\">\n",
       "  <thead>\n",
       "    <tr style=\"text-align: right;\">\n",
       "      <th></th>\n",
       "      <th>is_promoted</th>\n",
       "      <th>department</th>\n",
       "      <th>education</th>\n",
       "      <th>gender</th>\n",
       "      <th>recruitment_channel</th>\n",
       "      <th>no_of_trainings</th>\n",
       "      <th>previous_year_rating</th>\n",
       "      <th>length_of_service</th>\n",
       "      <th>KPIs_met &gt;80%</th>\n",
       "      <th>awards_won?</th>\n",
       "      <th>avg_training_score</th>\n",
       "    </tr>\n",
       "  </thead>\n",
       "  <tbody>\n",
       "    <tr>\n",
       "      <th>0</th>\n",
       "      <td>0</td>\n",
       "      <td>7</td>\n",
       "      <td>2</td>\n",
       "      <td>0</td>\n",
       "      <td>2</td>\n",
       "      <td>-0.415276</td>\n",
       "      <td>1.385021</td>\n",
       "      <td>0.500460</td>\n",
       "      <td>1.356878</td>\n",
       "      <td>-0.154018</td>\n",
       "      <td>-1.075931</td>\n",
       "    </tr>\n",
       "    <tr>\n",
       "      <th>1</th>\n",
       "      <td>0</td>\n",
       "      <td>4</td>\n",
       "      <td>0</td>\n",
       "      <td>1</td>\n",
       "      <td>0</td>\n",
       "      <td>-0.415276</td>\n",
       "      <td>1.385021</td>\n",
       "      <td>-0.437395</td>\n",
       "      <td>-0.736986</td>\n",
       "      <td>-0.154018</td>\n",
       "      <td>-0.253282</td>\n",
       "    </tr>\n",
       "    <tr>\n",
       "      <th>2</th>\n",
       "      <td>0</td>\n",
       "      <td>7</td>\n",
       "      <td>0</td>\n",
       "      <td>1</td>\n",
       "      <td>2</td>\n",
       "      <td>-0.415276</td>\n",
       "      <td>-0.259125</td>\n",
       "      <td>0.265996</td>\n",
       "      <td>-0.736986</td>\n",
       "      <td>-0.154018</td>\n",
       "      <td>-1.001145</td>\n",
       "    </tr>\n",
       "    <tr>\n",
       "      <th>3</th>\n",
       "      <td>0</td>\n",
       "      <td>7</td>\n",
       "      <td>0</td>\n",
       "      <td>1</td>\n",
       "      <td>0</td>\n",
       "      <td>1.226063</td>\n",
       "      <td>-1.903271</td>\n",
       "      <td>0.969387</td>\n",
       "      <td>-0.736986</td>\n",
       "      <td>-0.154018</td>\n",
       "      <td>-1.001145</td>\n",
       "    </tr>\n",
       "    <tr>\n",
       "      <th>4</th>\n",
       "      <td>0</td>\n",
       "      <td>8</td>\n",
       "      <td>0</td>\n",
       "      <td>1</td>\n",
       "      <td>0</td>\n",
       "      <td>-0.415276</td>\n",
       "      <td>-0.259125</td>\n",
       "      <td>-0.906322</td>\n",
       "      <td>-0.736986</td>\n",
       "      <td>-0.154018</td>\n",
       "      <td>0.718939</td>\n",
       "    </tr>\n",
       "  </tbody>\n",
       "</table>\n",
       "</div>"
      ]
     },
     "metadata": {},
     "execution_count": 3
    }
   ],
   "metadata": {}
  },
  {
   "cell_type": "code",
   "execution_count": 4,
   "source": [
    "X = train.drop(columns= 'is_promoted')\r\n",
    "y = train['is_promoted']"
   ],
   "outputs": [],
   "metadata": {}
  },
  {
   "cell_type": "markdown",
   "source": [
    "### Overcoming Class Imbalance"
   ],
   "metadata": {}
  },
  {
   "cell_type": "code",
   "execution_count": 5,
   "source": [
    "from imblearn.combine import SMOTETomek\r\n",
    "from collections import Counter"
   ],
   "outputs": [],
   "metadata": {}
  },
  {
   "cell_type": "code",
   "execution_count": 6,
   "source": [
    "X_train, X_test, y_train, y_test = train_test_split(X, y, test_size= 0.4, random_state= 42)"
   ],
   "outputs": [],
   "metadata": {}
  },
  {
   "cell_type": "code",
   "execution_count": 7,
   "source": [
    "os= SMOTETomek(random_state= 42)\r\n",
    "X_train_ns,y_train_ns = os.fit_resample(X_train,y_train)\r\n",
    "print(\"The number of classes before fit {}\".format(Counter(y_train)))\r\n",
    "print(\"The number of classes after fit {}\".format(Counter(y_train_ns)))"
   ],
   "outputs": [
    {
     "output_type": "stream",
     "name": "stdout",
     "text": [
      "The number of classes before fit Counter({0: 30000, 1: 2884})\n",
      "The number of classes after fit Counter({0: 29566, 1: 29566})\n"
     ]
    }
   ],
   "metadata": {}
  },
  {
   "cell_type": "markdown",
   "source": [
    "In any model building, we mainly focus on 3 main steps:\r\n",
    "\r\n",
    "- Fitting the model and finding the accuracy (accuracy score) of the fitted model.\r\n",
    "- Perform K-Fold Cross Validation (K needs to be specified).\r\n",
    "- Find the accuracy of the Cross Validation. \r\n",
    "\r\n",
    "**We will be running a whole bunch of models to figure out which model is best suited for our data.**"
   ],
   "metadata": {}
  },
  {
   "cell_type": "markdown",
   "source": [
    "#### Model 1: Logistic Regression"
   ],
   "metadata": {}
  },
  {
   "cell_type": "code",
   "execution_count": 8,
   "source": [
    "start_time = time.time()\r\n",
    "algorithm = LogisticRegression()\r\n",
    "\r\n",
    "## Step 1:\r\n",
    "model = algorithm.fit(X_train_ns,y_train_ns)      # Creating the model. We will fit the algorithm to the training data.\r\n",
    "log_acc = round(model.score(X_train_ns,y_train_ns)*100, 2)\r\n",
    "\r\n",
    "## Step 2:  --> This code performs Cross Validation automatically.\r\n",
    "log_train_pred = model_selection.cross_val_predict(algorithm, X_train_ns,y_train_ns, cv= 10, n_jobs= -1)\r\n",
    "\r\n",
    "## Step 3:  --> Cross Validation accuracy metric.\r\n",
    "log_acc_cv = round(metrics.accuracy_score(y_train_ns, log_train_pred)*100, 2)\r\n",
    "\r\n",
    "log_pre_cv = precision_score(y_train_ns, log_train_pred)\r\n",
    "log_rec_cv = recall_score(y_train_ns, log_train_pred)\r\n",
    "log_f1_cv = f1_score(y_train_ns, log_train_pred)\r\n",
    "\r\n",
    "log_time = (time.time()- start_time)"
   ],
   "outputs": [],
   "metadata": {}
  },
  {
   "cell_type": "code",
   "execution_count": 9,
   "source": [
    "# Logistic Regression\r\n",
    "print('Accuracy of the model is: ', log_acc)\r\n",
    "print('Accuracy of 10-Fold CV is: ', log_acc_cv)\r\n",
    "print('Running time is: ', datetime.timedelta(seconds= log_time))\r\n",
    "\r\n",
    "print('Precision: ', log_pre_cv)\r\n",
    "print('Recall: ', log_rec_cv)\r\n",
    "print('F1-Score: ', log_f1_cv)\r\n"
   ],
   "outputs": [
    {
     "output_type": "stream",
     "name": "stdout",
     "text": [
      "Accuracy of the model is:  72.05\n",
      "Accuracy of 10-Fold CV is:  72.06\n",
      "Running time is:  0:00:13.493614\n",
      "Precision:  0.7227060068982003\n",
      "Recall:  0.7157884056010282\n",
      "F1-Score:  0.7192305731618209\n"
     ]
    }
   ],
   "metadata": {}
  },
  {
   "cell_type": "markdown",
   "source": [
    "#### Model 2: K-Nearest Neighbours"
   ],
   "metadata": {}
  },
  {
   "cell_type": "code",
   "execution_count": 10,
   "source": [
    "start_time = time.time()\r\n",
    "algorithm = KNeighborsClassifier()\r\n",
    "\r\n",
    "## Step 1:\r\n",
    "model = algorithm.fit(X_train_ns,y_train_ns)      # Creating the model. We will fit the algorithm to the training data.\r\n",
    "knn_acc = round(model.score(X_train_ns,y_train_ns)*100, 2)\r\n",
    "\r\n",
    "## Step 2:  --> This code performs Cross Validation automatically.\r\n",
    "knn_train_pred = model_selection.cross_val_predict(algorithm, X_train_ns,y_train_ns, cv= 10, n_jobs= -1)\r\n",
    "\r\n",
    "## Step 3:  --> Cross Validation accuracy metric.\r\n",
    "knn_acc_cv = round(metrics.accuracy_score(y_train_ns, knn_train_pred)*100, 2)\r\n",
    "\r\n",
    "knn_pre_cv = precision_score(y_train_ns, knn_train_pred)\r\n",
    "knn_rec_cv = recall_score(y_train_ns, knn_train_pred)\r\n",
    "knn_f1_cv = f1_score(y_train_ns, knn_train_pred)\r\n",
    "\r\n",
    "knn_time = (time.time()- start_time)"
   ],
   "outputs": [],
   "metadata": {}
  },
  {
   "cell_type": "code",
   "execution_count": 11,
   "source": [
    "# K-Nearest Neighbours\r\n",
    "print('Accuracy of the model is: ', knn_acc)\r\n",
    "print('Accuracy of 10-Fold CV is: ', knn_acc_cv)\r\n",
    "print('Running time is: ', datetime.timedelta(seconds= knn_time))\r\n",
    "\r\n",
    "print('Precision: ', knn_pre_cv)\r\n",
    "print('Recall: ', knn_rec_cv)\r\n",
    "print('F1-Score: ', knn_f1_cv)"
   ],
   "outputs": [
    {
     "output_type": "stream",
     "name": "stdout",
     "text": [
      "Accuracy of the model is:  93.24\n",
      "Accuracy of 10-Fold CV is:  89.62\n",
      "Running time is:  0:04:21.812483\n",
      "Precision:  0.8634910783553142\n",
      "Recall:  0.9411486166542651\n",
      "F1-Score:  0.9006489618229193\n"
     ]
    }
   ],
   "metadata": {}
  },
  {
   "cell_type": "markdown",
   "source": [
    "#### Model 3: Gaussian Naive Bayes"
   ],
   "metadata": {}
  },
  {
   "cell_type": "code",
   "execution_count": 12,
   "source": [
    "start_time = time.time()\r\n",
    "algorithm = GaussianNB()\r\n",
    "\r\n",
    "## Step 1:\r\n",
    "model = algorithm.fit(X_train_ns,y_train_ns)      # Creating the model. We will fit the algorithm to the training data.\r\n",
    "gnb_acc = round(model.score(X_train_ns,y_train_ns)*100, 2)\r\n",
    "\r\n",
    "## Step 2:  --> This code performs Cross Validation automatically.\r\n",
    "gnb_train_pred = model_selection.cross_val_predict(algorithm, X_train_ns,y_train_ns, cv= 10, n_jobs= -1)\r\n",
    "\r\n",
    "## Step 3:  --> Cross Validation accuracy metric.\r\n",
    "gnb_acc_cv = round(metrics.accuracy_score(y_train_ns, gnb_train_pred)*100, 2)\r\n",
    "\r\n",
    "gnb_pre_cv = precision_score(y_train_ns, gnb_train_pred)\r\n",
    "gnb_rec_cv = recall_score(y_train_ns, gnb_train_pred)\r\n",
    "gnb_f1_cv = f1_score(y_train_ns, gnb_train_pred)\r\n",
    "\r\n",
    "gnb_time = (time.time()- start_time)"
   ],
   "outputs": [],
   "metadata": {}
  },
  {
   "cell_type": "code",
   "execution_count": 13,
   "source": [
    "# Gaussian Naive Bayes\r\n",
    "print('Accuracy of the model is: ', gnb_acc)\r\n",
    "print('Accuracy of 10-Fold CV is: ', gnb_acc_cv)\r\n",
    "print('Running time is: ', datetime.timedelta(seconds= gnb_time))\r\n",
    "\r\n",
    "print('Precision: ', gnb_pre_cv)\r\n",
    "print('Recall: ', gnb_rec_cv)\r\n",
    "print('F1-Score: ', gnb_f1_cv)"
   ],
   "outputs": [
    {
     "output_type": "stream",
     "name": "stdout",
     "text": [
      "Accuracy of the model is:  67.51\n",
      "Accuracy of 10-Fold CV is:  67.49\n",
      "Running time is:  0:00:01.809234\n",
      "Precision:  0.7563454293079516\n",
      "Recall:  0.5160319285665967\n",
      "F1-Score:  0.6134947122924123\n"
     ]
    }
   ],
   "metadata": {}
  },
  {
   "cell_type": "markdown",
   "source": [
    "#### Model 4: Linear Support Vector Machines (SVC)"
   ],
   "metadata": {}
  },
  {
   "cell_type": "code",
   "execution_count": 14,
   "source": [
    "start_time = time.time()\r\n",
    "algorithm = LinearSVC()\r\n",
    "\r\n",
    "## Step 1:\r\n",
    "model = algorithm.fit(X_train_ns,y_train_ns)      # Creating the model. We will fit the algorithm to the training data.\r\n",
    "svc_acc = round(model.score(X_train_ns,y_train_ns)*100, 2)\r\n",
    "\r\n",
    "## Step 2:  --> This code performs Cross Validation automatically.\r\n",
    "svc_train_pred = model_selection.cross_val_predict(algorithm, X_train_ns,y_train_ns, cv= 10, n_jobs= -1)\r\n",
    "\r\n",
    "## Step 3:  --> Cross Validation accuracy metric.\r\n",
    "svc_acc_cv = round(metrics.accuracy_score(y_train_ns, svc_train_pred)*100, 2)\r\n",
    "\r\n",
    "svc_pre_cv = precision_score(y_train_ns, svc_train_pred)\r\n",
    "svc_rec_cv = recall_score(y_train_ns, svc_train_pred)\r\n",
    "svc_f1_cv = f1_score(y_train_ns, svc_train_pred)\r\n",
    "\r\n",
    "svc_time = (time.time()- start_time)"
   ],
   "outputs": [],
   "metadata": {}
  },
  {
   "cell_type": "code",
   "execution_count": 15,
   "source": [
    "# Linear Support Vector Machines\r\n",
    "print('Accuracy of the model is: ', svc_acc)\r\n",
    "print('Accuracy of 10-Fold CV is: ', svc_acc_cv)\r\n",
    "print('Running time is: ', datetime.timedelta(seconds= svc_time))\r\n",
    "\r\n",
    "print('Precision: ', svc_pre_cv)\r\n",
    "print('Recall: ', svc_rec_cv)\r\n",
    "print('F1-Score: ', svc_f1_cv)"
   ],
   "outputs": [
    {
     "output_type": "stream",
     "name": "stdout",
     "text": [
      "Accuracy of the model is:  72.44\n",
      "Accuracy of 10-Fold CV is:  72.45\n",
      "Running time is:  0:03:30.388529\n",
      "Precision:  0.7242416052969394\n",
      "Recall:  0.7251234526144896\n",
      "F1-Score:  0.7246822606814495\n"
     ]
    }
   ],
   "metadata": {}
  },
  {
   "cell_type": "markdown",
   "source": [
    "#### Model 5: Stochastic Gradient Descent"
   ],
   "metadata": {}
  },
  {
   "cell_type": "code",
   "execution_count": 16,
   "source": [
    "start_time = time.time()\r\n",
    "algorithm = SGDClassifier()\r\n",
    "\r\n",
    "## Step 1:\r\n",
    "model = algorithm.fit(X_train_ns,y_train_ns)      # Creating the model. We will fit the algorithm to the training data.\r\n",
    "SGD_acc = round(model.score(X_train_ns,y_train_ns)*100, 2)\r\n",
    "\r\n",
    "## Step 2:  --> This code performs Cross Validation automatically.\r\n",
    "SGD_train_pred = model_selection.cross_val_predict(algorithm, X_train_ns,y_train_ns, cv= 10, n_jobs= -1)\r\n",
    "\r\n",
    "## Step 3:  --> Cross Validation accuracy metric.\r\n",
    "SGD_acc_cv = round(metrics.accuracy_score(y_train_ns, SGD_train_pred)*100, 2)\r\n",
    "\r\n",
    "SGD_pre_cv = precision_score(y_train_ns, SGD_train_pred)\r\n",
    "SGD_rec_cv = recall_score(y_train_ns, SGD_train_pred)\r\n",
    "SGD_f1_cv = f1_score(y_train_ns, SGD_train_pred)\r\n",
    "\r\n",
    "SGD_time = (time.time()- start_time)"
   ],
   "outputs": [],
   "metadata": {}
  },
  {
   "cell_type": "code",
   "execution_count": 17,
   "source": [
    "# Stochastic Gradient Descent\r\n",
    "print('Accuracy of the model is: ', SGD_acc)\r\n",
    "print('Accuracy of 10-Fold CV is: ', SGD_acc_cv)\r\n",
    "print('Running time is: ', datetime.timedelta(seconds= SGD_time))\r\n",
    "\r\n",
    "print('Precision: ', SGD_pre_cv)\r\n",
    "print('Recall: ', SGD_rec_cv)\r\n",
    "print('F1-Score: ', SGD_f1_cv)"
   ],
   "outputs": [
    {
     "output_type": "stream",
     "name": "stdout",
     "text": [
      "Accuracy of the model is:  72.56\n",
      "Accuracy of 10-Fold CV is:  72.76\n",
      "Running time is:  0:00:08.297752\n",
      "Precision:  0.7120572292953485\n",
      "Recall:  0.7642224176418859\n",
      "F1-Score:  0.7372181800385006\n"
     ]
    }
   ],
   "metadata": {}
  },
  {
   "cell_type": "markdown",
   "source": [
    "#### Model 6: Decision Tree Classifier"
   ],
   "metadata": {}
  },
  {
   "cell_type": "code",
   "execution_count": 18,
   "source": [
    "start_time = time.time()\r\n",
    "algorithm = DecisionTreeClassifier()\r\n",
    "\r\n",
    "## Step 1:\r\n",
    "model = algorithm.fit(X_train_ns,y_train_ns)      # Creating the model. We will fit the algorithm to the training data.\r\n",
    "dt_acc = round(model.score(X_train_ns,y_train_ns)*100, 2)\r\n",
    "\r\n",
    "## Step 2:  --> This code performs Cross Validation automatically.\r\n",
    "dt_train_pred = model_selection.cross_val_predict(algorithm, X_train_ns,y_train_ns, cv= 10, n_jobs= -1)\r\n",
    "\r\n",
    "## Step 3:  --> Cross Validation accuracy metric.\r\n",
    "dt_acc_cv = round(metrics.accuracy_score(y_train_ns, dt_train_pred)*100, 2)\r\n",
    "\r\n",
    "dt_pre_cv = precision_score(y_train_ns, dt_train_pred)\r\n",
    "dt_rec_cv = recall_score(y_train_ns, dt_train_pred)\r\n",
    "dt_f1_cv = f1_score(y_train_ns, dt_train_pred)\r\n",
    "\r\n",
    "dt_time = (time.time()- start_time)"
   ],
   "outputs": [],
   "metadata": {}
  },
  {
   "cell_type": "code",
   "execution_count": 19,
   "source": [
    "#  Decision Tree Classifier\r\n",
    "print('Accuracy of the model is: ', dt_acc)\r\n",
    "print('Accuracy of 10-Fold CV is: ', dt_acc_cv)\r\n",
    "print('Running time is: ', datetime.timedelta(seconds= dt_time))\r\n",
    "\r\n",
    "print('Precision: ', dt_pre_cv)\r\n",
    "print('Recall: ', dt_rec_cv)\r\n",
    "print('F1-Score: ', dt_f1_cv)"
   ],
   "outputs": [
    {
     "output_type": "stream",
     "name": "stdout",
     "text": [
      "Accuracy of the model is:  98.88\n",
      "Accuracy of 10-Fold CV is:  93.74\n",
      "Running time is:  0:00:04.647428\n",
      "Precision:  0.9437238350147553\n",
      "Recall:  0.9301900832036799\n",
      "F1-Score:  0.9369080874838183\n"
     ]
    }
   ],
   "metadata": {}
  },
  {
   "cell_type": "markdown",
   "source": [
    "#### Model 7: Gradient Boost Trees"
   ],
   "metadata": {}
  },
  {
   "cell_type": "code",
   "execution_count": 20,
   "source": [
    "start_time = time.time()\r\n",
    "algorithm = GradientBoostingClassifier()\r\n",
    "\r\n",
    "## Step 1:\r\n",
    "model = algorithm.fit(X_train_ns,y_train_ns)      # Creating the model. We will fit the algorithm to the training data.\r\n",
    "gbt_acc = round(model.score(X_train_ns,y_train_ns)*100, 2)\r\n",
    "\r\n",
    "## Step 2:  --> This code performs Cross Validation automatically.\r\n",
    "gbt_train_pred = model_selection.cross_val_predict(algorithm, X_train_ns,y_train_ns, cv= 10, n_jobs= -1)\r\n",
    "\r\n",
    "## Step 3:  --> Cross Validation accuracy metric.\r\n",
    "gbt_acc_cv = round(metrics.accuracy_score(y_train_ns, gbt_train_pred)*100, 2)\r\n",
    "\r\n",
    "gbt_pre_cv = precision_score(y_train_ns, gbt_train_pred)\r\n",
    "gbt_rec_cv = recall_score(y_train_ns, gbt_train_pred)\r\n",
    "gbt_f1_cv = f1_score(y_train_ns, gbt_train_pred)\r\n",
    "\r\n",
    "gbt_time = (time.time()- start_time)"
   ],
   "outputs": [],
   "metadata": {}
  },
  {
   "cell_type": "code",
   "execution_count": 21,
   "source": [
    "# Gradient Boost Trees\r\n",
    "print('Accuracy of the model is: ', gbt_acc)\r\n",
    "print('Accuracy of 10-Fold CV is: ', gbt_acc_cv)\r\n",
    "print('Running time is: ', datetime.timedelta(seconds= gbt_time))\r\n",
    "\r\n",
    "print('Precision: ', gbt_pre_cv)\r\n",
    "print('Recall: ', gbt_rec_cv)\r\n",
    "print('F1-Score: ', gbt_f1_cv)"
   ],
   "outputs": [
    {
     "output_type": "stream",
     "name": "stdout",
     "text": [
      "Accuracy of the model is:  88.07\n",
      "Accuracy of 10-Fold CV is:  87.74\n",
      "Running time is:  0:01:49.096689\n",
      "Precision:  0.858533607505462\n",
      "Recall:  0.9037746059663126\n",
      "F1-Score:  0.8805734058329214\n"
     ]
    }
   ],
   "metadata": {}
  },
  {
   "cell_type": "markdown",
   "source": [
    "#### Model 8: Random Forest\r\n"
   ],
   "metadata": {}
  },
  {
   "cell_type": "code",
   "execution_count": 22,
   "source": [
    "start_time = time.time()\r\n",
    "algorithm = RandomForestClassifier()\r\n",
    "\r\n",
    "## Step 1:\r\n",
    "model = algorithm.fit(X_train_ns,y_train_ns)      # Creating the model. We will fit the algorithm to the training data.\r\n",
    "rf_acc = round(model.score(X_train_ns,y_train_ns)*100, 2)\r\n",
    "\r\n",
    "## Step 2:  --> This code performs Cross Validation automatically.\r\n",
    "rf_train_pred = model_selection.cross_val_predict(algorithm, X_train_ns,y_train_ns, cv= 10, n_jobs= -1)\r\n",
    "\r\n",
    "## Step 3:  --> Cross Validation accuracy metric.\r\n",
    "rf_acc_cv = round(metrics.accuracy_score(y_train_ns, rf_train_pred)*100, 2)\r\n",
    "\r\n",
    "rf_pre_cv = precision_score(y_train_ns, rf_train_pred)\r\n",
    "rf_rec_cv = recall_score(y_train_ns, rf_train_pred)\r\n",
    "rf_f1_cv = f1_score(y_train_ns, rf_train_pred)\r\n",
    "\r\n",
    "rf_time = (time.time()- start_time)"
   ],
   "outputs": [],
   "metadata": {}
  },
  {
   "cell_type": "code",
   "execution_count": 23,
   "source": [
    "print('Accuracy of the model is: ', rf_acc)\r\n",
    "print('Accuracy of 10-Fold CV is: ', rf_acc_cv)\r\n",
    "print('Running time is: ', datetime.timedelta(seconds= rf_time))\r\n",
    "\r\n",
    "print('Precision: ', rf_pre_cv)\r\n",
    "print('Recall: ', rf_rec_cv)\r\n",
    "print('F1-Score: ', rf_f1_cv)"
   ],
   "outputs": [
    {
     "output_type": "stream",
     "name": "stdout",
     "text": [
      "Accuracy of the model is:  98.88\n",
      "Accuracy of 10-Fold CV is:  95.03\n",
      "Running time is:  0:01:57.698702\n",
      "Precision:  0.9520592129833972\n",
      "Recall:  0.948420482987215\n",
      "F1-Score:  0.9502363645605651\n"
     ]
    }
   ],
   "metadata": {}
  },
  {
   "cell_type": "markdown",
   "source": [
    "### Model Results\r\n",
    "\r\n",
    "Now let's see which model has the best cross-validation accuracy.\r\n",
    "\r\n",
    "- <b>NOTE:</b> We care more about the accuracy of cross validation, as the metrics we get from the model can randomly score higher than usual."
   ],
   "metadata": {}
  },
  {
   "cell_type": "code",
   "execution_count": 24,
   "source": [
    "cv_models = pd.DataFrame({'Model':[' Logistic Regression', 'K-Nearest Neighbours', 'Gaussian Naive Bayes', \r\n",
    "                                'Linear Support Vector Machines (SVC)', 'Stochastic Gradient Descent', \r\n",
    "                                'Decision Tree Classifier', 'Gradient Boost Trees', 'Random Forest'],\r\n",
    "                      'Score':[log_acc_cv, knn_acc_cv, gnb_acc_cv, svc_acc_cv, SGD_acc_cv, dt_acc_cv, gbt_acc_cv, rf_acc_cv]})\r\n",
    "\r\n",
    "print('-----Cross-Validation Accuracy Scores-----')\r\n",
    "cv_models.nlargest(9,'Score')"
   ],
   "outputs": [
    {
     "output_type": "stream",
     "name": "stdout",
     "text": [
      "-----Cross-Validation Accuracy Scores-----\n"
     ]
    },
    {
     "output_type": "execute_result",
     "data": {
      "text/plain": [
       "                                  Model  Score\n",
       "7                         Random Forest  95.03\n",
       "5              Decision Tree Classifier  93.74\n",
       "1                  K-Nearest Neighbours  89.62\n",
       "6                  Gradient Boost Trees  87.74\n",
       "4           Stochastic Gradient Descent  72.76\n",
       "3  Linear Support Vector Machines (SVC)  72.45\n",
       "0                   Logistic Regression  72.06\n",
       "2                  Gaussian Naive Bayes  67.49"
      ],
      "text/html": [
       "<div>\n",
       "<style scoped>\n",
       "    .dataframe tbody tr th:only-of-type {\n",
       "        vertical-align: middle;\n",
       "    }\n",
       "\n",
       "    .dataframe tbody tr th {\n",
       "        vertical-align: top;\n",
       "    }\n",
       "\n",
       "    .dataframe thead th {\n",
       "        text-align: right;\n",
       "    }\n",
       "</style>\n",
       "<table border=\"1\" class=\"dataframe\">\n",
       "  <thead>\n",
       "    <tr style=\"text-align: right;\">\n",
       "      <th></th>\n",
       "      <th>Model</th>\n",
       "      <th>Score</th>\n",
       "    </tr>\n",
       "  </thead>\n",
       "  <tbody>\n",
       "    <tr>\n",
       "      <th>7</th>\n",
       "      <td>Random Forest</td>\n",
       "      <td>95.03</td>\n",
       "    </tr>\n",
       "    <tr>\n",
       "      <th>5</th>\n",
       "      <td>Decision Tree Classifier</td>\n",
       "      <td>93.74</td>\n",
       "    </tr>\n",
       "    <tr>\n",
       "      <th>1</th>\n",
       "      <td>K-Nearest Neighbours</td>\n",
       "      <td>89.62</td>\n",
       "    </tr>\n",
       "    <tr>\n",
       "      <th>6</th>\n",
       "      <td>Gradient Boost Trees</td>\n",
       "      <td>87.74</td>\n",
       "    </tr>\n",
       "    <tr>\n",
       "      <th>4</th>\n",
       "      <td>Stochastic Gradient Descent</td>\n",
       "      <td>72.76</td>\n",
       "    </tr>\n",
       "    <tr>\n",
       "      <th>3</th>\n",
       "      <td>Linear Support Vector Machines (SVC)</td>\n",
       "      <td>72.45</td>\n",
       "    </tr>\n",
       "    <tr>\n",
       "      <th>0</th>\n",
       "      <td>Logistic Regression</td>\n",
       "      <td>72.06</td>\n",
       "    </tr>\n",
       "    <tr>\n",
       "      <th>2</th>\n",
       "      <td>Gaussian Naive Bayes</td>\n",
       "      <td>67.49</td>\n",
       "    </tr>\n",
       "  </tbody>\n",
       "</table>\n",
       "</div>"
      ]
     },
     "metadata": {},
     "execution_count": 24
    }
   ],
   "metadata": {}
  },
  {
   "cell_type": "markdown",
   "source": [
    "### Precision and Recall\r\n",
    "\r\n",
    "Precision and Recall are metrics that you use when you have an imbalanced classification problem.\r\n",
    "\r\n",
    "- Recall - a metric which measures a models ability to find all relevant cases in a dataset.\r\n",
    "- Precision - a metric which measures a models ability to correctly identify only relevant cases.\r\n",
    "\r\n",
    "Combining  Precision and Recall gives us the **F1 score.**\r\n",
    "\r\n",
    "They fall between 0 and 1, with 1 being better."
   ],
   "metadata": {}
  },
  {
   "cell_type": "code",
   "execution_count": 25,
   "source": [
    "f1_cv_models = pd.DataFrame({'Model':[' Logistic Regression', 'K-Nearest Neighbours', 'Gaussian Naive Bayes', \r\n",
    "                                'Linear Support Vector Machines (SVC)', 'Stochastic Gradient Descent', \r\n",
    "                                'Decision Tree Classifier', 'Gradient Boost Trees', 'Random Forest'],\r\n",
    "                      'F1-Score':[log_f1_cv, knn_f1_cv, gnb_f1_cv, svc_f1_cv, SGD_f1_cv, dt_f1_cv, gbt_f1_cv, rf_f1_cv]})\r\n",
    "\r\n",
    "print('-----Cross-Validation Accuracy Scores-----')\r\n",
    "f1_cv_models.nlargest(8,'F1-Score')"
   ],
   "outputs": [
    {
     "output_type": "stream",
     "name": "stdout",
     "text": [
      "-----Cross-Validation Accuracy Scores-----\n"
     ]
    },
    {
     "output_type": "execute_result",
     "data": {
      "text/plain": [
       "                                  Model  F1-Score\n",
       "7                         Random Forest  0.950236\n",
       "5              Decision Tree Classifier  0.936908\n",
       "1                  K-Nearest Neighbours  0.900649\n",
       "6                  Gradient Boost Trees  0.880573\n",
       "4           Stochastic Gradient Descent  0.737218\n",
       "3  Linear Support Vector Machines (SVC)  0.724682\n",
       "0                   Logistic Regression  0.719231\n",
       "2                  Gaussian Naive Bayes  0.613495"
      ],
      "text/html": [
       "<div>\n",
       "<style scoped>\n",
       "    .dataframe tbody tr th:only-of-type {\n",
       "        vertical-align: middle;\n",
       "    }\n",
       "\n",
       "    .dataframe tbody tr th {\n",
       "        vertical-align: top;\n",
       "    }\n",
       "\n",
       "    .dataframe thead th {\n",
       "        text-align: right;\n",
       "    }\n",
       "</style>\n",
       "<table border=\"1\" class=\"dataframe\">\n",
       "  <thead>\n",
       "    <tr style=\"text-align: right;\">\n",
       "      <th></th>\n",
       "      <th>Model</th>\n",
       "      <th>F1-Score</th>\n",
       "    </tr>\n",
       "  </thead>\n",
       "  <tbody>\n",
       "    <tr>\n",
       "      <th>7</th>\n",
       "      <td>Random Forest</td>\n",
       "      <td>0.950236</td>\n",
       "    </tr>\n",
       "    <tr>\n",
       "      <th>5</th>\n",
       "      <td>Decision Tree Classifier</td>\n",
       "      <td>0.936908</td>\n",
       "    </tr>\n",
       "    <tr>\n",
       "      <th>1</th>\n",
       "      <td>K-Nearest Neighbours</td>\n",
       "      <td>0.900649</td>\n",
       "    </tr>\n",
       "    <tr>\n",
       "      <th>6</th>\n",
       "      <td>Gradient Boost Trees</td>\n",
       "      <td>0.880573</td>\n",
       "    </tr>\n",
       "    <tr>\n",
       "      <th>4</th>\n",
       "      <td>Stochastic Gradient Descent</td>\n",
       "      <td>0.737218</td>\n",
       "    </tr>\n",
       "    <tr>\n",
       "      <th>3</th>\n",
       "      <td>Linear Support Vector Machines (SVC)</td>\n",
       "      <td>0.724682</td>\n",
       "    </tr>\n",
       "    <tr>\n",
       "      <th>0</th>\n",
       "      <td>Logistic Regression</td>\n",
       "      <td>0.719231</td>\n",
       "    </tr>\n",
       "    <tr>\n",
       "      <th>2</th>\n",
       "      <td>Gaussian Naive Bayes</td>\n",
       "      <td>0.613495</td>\n",
       "    </tr>\n",
       "  </tbody>\n",
       "</table>\n",
       "</div>"
      ]
     },
     "metadata": {},
     "execution_count": 25
    }
   ],
   "metadata": {}
  },
  {
   "cell_type": "markdown",
   "source": [
    "> **Recall = TP/(TP + FN)**\r\n",
    "- Here the Recall is pretty high. This means that there is a lesser amount of False Negatives (predicting 'Did not launch' when it was actually 'Launched').\r\n",
    "\r\n",
    "> **Pression = TP/(TP + FP)**\r\n",
    "- Precision is high. Thus, we can say say that there is less False Positives (predicting 'Launched' when it actually 'Did not launch')"
   ],
   "metadata": {}
  },
  {
   "cell_type": "markdown",
   "source": [
    "### Prediction\r\n",
    "\r\n",
    "Let's use the model with the highest cross-validation accuracy score to make a prediction on the test dataset.\r\n",
    "\r\n",
    "We want to make predictions on the same columnns our model is trained on.\r\n",
    "\r\n",
    "So we have to select the subset of right columns of the test dateframe, encode them and make a prediciton with our model."
   ],
   "metadata": {}
  },
  {
   "cell_type": "code",
   "execution_count": 26,
   "source": [
    "# Create a list of columns to be used for predictions.\r\n",
    "wanted_columns = X_train.columns\r\n",
    "wanted_columns"
   ],
   "outputs": [
    {
     "output_type": "execute_result",
     "data": {
      "text/plain": [
       "Index(['department', 'education', 'gender', 'recruitment_channel',\n",
       "       'no_of_trainings', 'previous_year_rating', 'length_of_service',\n",
       "       'KPIs_met >80%', 'awards_won?', 'avg_training_score'],\n",
       "      dtype='object')"
      ]
     },
     "metadata": {},
     "execution_count": 26
    }
   ],
   "metadata": {}
  },
  {
   "cell_type": "code",
   "execution_count": 28,
   "source": [
    "# Make predictions using RandomForest model on wanted columns.\r\n",
    "predictions = algorithm.predict(X_test[wanted_columns])"
   ],
   "outputs": [],
   "metadata": {}
  },
  {
   "cell_type": "code",
   "execution_count": 29,
   "source": [
    "#  RandomForest Algorithm\r\n",
    "print('Accuracy of the model is: ', accuracy_score(y_test, predictions))\r\n",
    "print('Precision: ', precision_score(y_test, predictions))\r\n",
    "print('Recall: ', recall_score(y_test, predictions))\r\n",
    "print('F1: ', f1_score(y_test, predictions))"
   ],
   "outputs": [
    {
     "output_type": "stream",
     "name": "stdout",
     "text": [
      "Accuracy of the model is:  0.9077723043240284\n",
      "Precision:  0.4355362946912243\n",
      "Recall:  0.45067264573991034\n",
      "F1:  0.44297520661157025\n"
     ]
    }
   ],
   "metadata": {}
  },
  {
   "cell_type": "markdown",
   "source": [
    "## 2. Prediction on the Test dataset\r\n",
    "\r\n",
    "Let's use the model with the highest cross-validation accuracy score to make a prediction on the test dataset.\r\n",
    "\r\n",
    "We want to make predictions on the same columnns our model is trained on.\r\n",
    "\r\n",
    "So we have to select the subset of right columns of the test dateframe, encode them and make a prediciton with our model."
   ],
   "metadata": {}
  },
  {
   "cell_type": "code",
   "execution_count": 30,
   "source": [
    "test = pd.read_csv('Final_test.csv')\r\n",
    "test.head()"
   ],
   "outputs": [
    {
     "output_type": "execute_result",
     "data": {
      "text/plain": [
       "   department  education  gender  recruitment_channel  no_of_trainings  \\\n",
       "0           8          0       1                    2        -0.423094   \n",
       "1           2          0       0                    0        -0.423094   \n",
       "2           7          0       1                    0        -0.423094   \n",
       "3           5          0       0                    0         2.905264   \n",
       "4           1          0       1                    2        -0.423094   \n",
       "\n",
       "   previous_year_rating  length_of_service  KPIs_met >80%  awards_won?  \\\n",
       "0             -0.266732          -1.143200       1.336715    -0.152665   \n",
       "1             -0.266732          -0.192590      -0.748103    -0.152665   \n",
       "2             -1.907786          -0.430243      -0.748103    -0.152665   \n",
       "3             -1.087259           0.758019      -0.748103    -0.152665   \n",
       "4              0.553794           0.282714      -0.748103    -0.152665   \n",
       "\n",
       "   avg_training_score  \n",
       "0            1.024263  \n",
       "1           -0.914377  \n",
       "2           -1.212629  \n",
       "3            0.129506  \n",
       "4           -0.168746  "
      ],
      "text/html": [
       "<div>\n",
       "<style scoped>\n",
       "    .dataframe tbody tr th:only-of-type {\n",
       "        vertical-align: middle;\n",
       "    }\n",
       "\n",
       "    .dataframe tbody tr th {\n",
       "        vertical-align: top;\n",
       "    }\n",
       "\n",
       "    .dataframe thead th {\n",
       "        text-align: right;\n",
       "    }\n",
       "</style>\n",
       "<table border=\"1\" class=\"dataframe\">\n",
       "  <thead>\n",
       "    <tr style=\"text-align: right;\">\n",
       "      <th></th>\n",
       "      <th>department</th>\n",
       "      <th>education</th>\n",
       "      <th>gender</th>\n",
       "      <th>recruitment_channel</th>\n",
       "      <th>no_of_trainings</th>\n",
       "      <th>previous_year_rating</th>\n",
       "      <th>length_of_service</th>\n",
       "      <th>KPIs_met &gt;80%</th>\n",
       "      <th>awards_won?</th>\n",
       "      <th>avg_training_score</th>\n",
       "    </tr>\n",
       "  </thead>\n",
       "  <tbody>\n",
       "    <tr>\n",
       "      <th>0</th>\n",
       "      <td>8</td>\n",
       "      <td>0</td>\n",
       "      <td>1</td>\n",
       "      <td>2</td>\n",
       "      <td>-0.423094</td>\n",
       "      <td>-0.266732</td>\n",
       "      <td>-1.143200</td>\n",
       "      <td>1.336715</td>\n",
       "      <td>-0.152665</td>\n",
       "      <td>1.024263</td>\n",
       "    </tr>\n",
       "    <tr>\n",
       "      <th>1</th>\n",
       "      <td>2</td>\n",
       "      <td>0</td>\n",
       "      <td>0</td>\n",
       "      <td>0</td>\n",
       "      <td>-0.423094</td>\n",
       "      <td>-0.266732</td>\n",
       "      <td>-0.192590</td>\n",
       "      <td>-0.748103</td>\n",
       "      <td>-0.152665</td>\n",
       "      <td>-0.914377</td>\n",
       "    </tr>\n",
       "    <tr>\n",
       "      <th>2</th>\n",
       "      <td>7</td>\n",
       "      <td>0</td>\n",
       "      <td>1</td>\n",
       "      <td>0</td>\n",
       "      <td>-0.423094</td>\n",
       "      <td>-1.907786</td>\n",
       "      <td>-0.430243</td>\n",
       "      <td>-0.748103</td>\n",
       "      <td>-0.152665</td>\n",
       "      <td>-1.212629</td>\n",
       "    </tr>\n",
       "    <tr>\n",
       "      <th>3</th>\n",
       "      <td>5</td>\n",
       "      <td>0</td>\n",
       "      <td>0</td>\n",
       "      <td>0</td>\n",
       "      <td>2.905264</td>\n",
       "      <td>-1.087259</td>\n",
       "      <td>0.758019</td>\n",
       "      <td>-0.748103</td>\n",
       "      <td>-0.152665</td>\n",
       "      <td>0.129506</td>\n",
       "    </tr>\n",
       "    <tr>\n",
       "      <th>4</th>\n",
       "      <td>1</td>\n",
       "      <td>0</td>\n",
       "      <td>1</td>\n",
       "      <td>2</td>\n",
       "      <td>-0.423094</td>\n",
       "      <td>0.553794</td>\n",
       "      <td>0.282714</td>\n",
       "      <td>-0.748103</td>\n",
       "      <td>-0.152665</td>\n",
       "      <td>-0.168746</td>\n",
       "    </tr>\n",
       "  </tbody>\n",
       "</table>\n",
       "</div>"
      ]
     },
     "metadata": {},
     "execution_count": 30
    }
   ],
   "metadata": {}
  },
  {
   "cell_type": "code",
   "execution_count": 31,
   "source": [
    "# Make predictions using RandomForest model on wanted columns.\r\n",
    "predictions = algorithm.predict(test[wanted_columns])"
   ],
   "outputs": [],
   "metadata": {}
  },
  {
   "cell_type": "code",
   "execution_count": 32,
   "source": [
    "# Our predictions array is comprised of 0's and 1's.\r\n",
    "predictions[:30]"
   ],
   "outputs": [
    {
     "output_type": "execute_result",
     "data": {
      "text/plain": [
       "array([1, 0, 0, 0, 0, 0, 1, 0, 0, 1, 1, 0, 0, 1, 1, 1, 0, 1, 1, 0, 0, 0,\n",
       "       0, 1, 1, 1, 1, 1, 0, 0], dtype=int64)"
      ]
     },
     "metadata": {},
     "execution_count": 32
    }
   ],
   "metadata": {}
  },
  {
   "cell_type": "code",
   "execution_count": 33,
   "source": [
    "pd.set_option('display.max_rows',100)\r\n",
    "df = pd.read_csv('test.csv')\r\n",
    "\r\n",
    "# Create a dataframe and append the relevant colimns.\r\n",
    "submission = pd.DataFrame()\r\n",
    "submission['employee_id'] = df['employee_id']\r\n",
    "submission['is_promoted'] = predictions\r\n",
    "submission.head()"
   ],
   "outputs": [
    {
     "output_type": "execute_result",
     "data": {
      "text/plain": [
       "   employee_id  is_promoted\n",
       "0         8724            1\n",
       "1        74430            0\n",
       "2        72255            0\n",
       "3        38562            0\n",
       "4        64486            0"
      ],
      "text/html": [
       "<div>\n",
       "<style scoped>\n",
       "    .dataframe tbody tr th:only-of-type {\n",
       "        vertical-align: middle;\n",
       "    }\n",
       "\n",
       "    .dataframe tbody tr th {\n",
       "        vertical-align: top;\n",
       "    }\n",
       "\n",
       "    .dataframe thead th {\n",
       "        text-align: right;\n",
       "    }\n",
       "</style>\n",
       "<table border=\"1\" class=\"dataframe\">\n",
       "  <thead>\n",
       "    <tr style=\"text-align: right;\">\n",
       "      <th></th>\n",
       "      <th>employee_id</th>\n",
       "      <th>is_promoted</th>\n",
       "    </tr>\n",
       "  </thead>\n",
       "  <tbody>\n",
       "    <tr>\n",
       "      <th>0</th>\n",
       "      <td>8724</td>\n",
       "      <td>1</td>\n",
       "    </tr>\n",
       "    <tr>\n",
       "      <th>1</th>\n",
       "      <td>74430</td>\n",
       "      <td>0</td>\n",
       "    </tr>\n",
       "    <tr>\n",
       "      <th>2</th>\n",
       "      <td>72255</td>\n",
       "      <td>0</td>\n",
       "    </tr>\n",
       "    <tr>\n",
       "      <th>3</th>\n",
       "      <td>38562</td>\n",
       "      <td>0</td>\n",
       "    </tr>\n",
       "    <tr>\n",
       "      <th>4</th>\n",
       "      <td>64486</td>\n",
       "      <td>0</td>\n",
       "    </tr>\n",
       "  </tbody>\n",
       "</table>\n",
       "</div>"
      ]
     },
     "metadata": {},
     "execution_count": 33
    }
   ],
   "metadata": {}
  },
  {
   "cell_type": "code",
   "execution_count": 34,
   "source": [
    "submission['is_promoted'].value_counts()"
   ],
   "outputs": [
    {
     "output_type": "execute_result",
     "data": {
      "text/plain": [
       "0    13171\n",
       "1    10319\n",
       "Name: is_promoted, dtype: int64"
      ]
     },
     "metadata": {},
     "execution_count": 34
    }
   ],
   "metadata": {}
  },
  {
   "cell_type": "code",
   "execution_count": 35,
   "source": [
    "# Are our test and submission the same length?\r\n",
    "if len(submission) == len(test):\r\n",
    "    print('The submission and the test dataframes are of the same length')\r\n",
    "else:\r\n",
    "    print('Dataframes mismatched')"
   ],
   "outputs": [
    {
     "output_type": "stream",
     "name": "stdout",
     "text": [
      "The submission and the test dataframes are of the same length\n"
     ]
    }
   ],
   "metadata": {}
  },
  {
   "cell_type": "code",
   "execution_count": 36,
   "source": [
    "# convert submission dataframe to csv.\r\n",
    "submission.to_csv('HR_Analytics-(Before HPT).csv', index= False)\r\n",
    "print('Submission csv is ready')"
   ],
   "outputs": [
    {
     "output_type": "stream",
     "name": "stdout",
     "text": [
      "Submission csv is ready\n"
     ]
    }
   ],
   "metadata": {}
  },
  {
   "cell_type": "code",
   "execution_count": null,
   "source": [],
   "outputs": [],
   "metadata": {}
  },
  {
   "cell_type": "code",
   "execution_count": null,
   "source": [],
   "outputs": [],
   "metadata": {}
  }
 ],
 "metadata": {
  "interpreter": {
   "hash": "a6c8cccf23fc189a51b8b2ae4ca3b98de763e12cce4f9033fe8d82721c91cecc"
  },
  "kernelspec": {
   "display_name": "Python 3.8.8 64-bit ('base': conda)",
   "name": "python3"
  },
  "language_info": {
   "name": "python",
   "version": ""
  },
  "orig_nbformat": 4
 },
 "nbformat": 4,
 "nbformat_minor": 2
}