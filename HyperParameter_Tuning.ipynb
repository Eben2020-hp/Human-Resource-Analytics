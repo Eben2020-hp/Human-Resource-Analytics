{
  "nbformat": 4,
  "nbformat_minor": 0,
  "metadata": {
    "interpreter": {
      "hash": "a6c8cccf23fc189a51b8b2ae4ca3b98de763e12cce4f9033fe8d82721c91cecc"
    },
    "kernelspec": {
      "display_name": "Python 3.8.8 64-bit ('base': conda)",
      "name": "python3"
    },
    "language_info": {
      "name": "python",
      "version": ""
    },
    "orig_nbformat": 4,
    "colab": {
      "name": "Model_Building.ipynb",
      "provenance": []
    }
  },
  "cells": [
    {
      "cell_type": "code",
      "metadata": {
        "colab": {
          "base_uri": "https://localhost:8080/"
        },
        "id": "2PsVrcSJ0cDj",
        "outputId": "c56fd8c1-fd16-4147-d366-848495aa41f1"
      },
      "source": [
        "# Start by connecting google drive into the google colab\n",
        "\n",
        "from google.colab import drive\n",
        "drive.mount('/content/gdrive')"
      ],
      "execution_count": 1,
      "outputs": [
        {
          "output_type": "stream",
          "text": [
            "Go to this URL in a browser: https://accounts.google.com/o/oauth2/auth?client_id=947318989803-6bn6qk8qdgf4n4g3pfee6491hc0brc4i.apps.googleusercontent.com&redirect_uri=urn%3aietf%3awg%3aoauth%3a2.0%3aoob&scope=email%20https%3a%2f%2fwww.googleapis.com%2fauth%2fdocs.test%20https%3a%2f%2fwww.googleapis.com%2fauth%2fdrive%20https%3a%2f%2fwww.googleapis.com%2fauth%2fdrive.photos.readonly%20https%3a%2f%2fwww.googleapis.com%2fauth%2fpeopleapi.readonly%20https%3a%2f%2fwww.googleapis.com%2fauth%2fdrive.activity.readonly%20https%3a%2f%2fwww.googleapis.com%2fauth%2fexperimentsandconfigs%20https%3a%2f%2fwww.googleapis.com%2fauth%2fphotos.native&response_type=code\n",
            "\n",
            "Enter your authorization code:\n",
            "4/1AX4XfWhMEDFi8kjdqVh25fgnfb_i80ztbQOUJYTHIgWQKu_e_8SVaFpprZ4\n",
            "Mounted at /content/gdrive\n"
          ],
          "name": "stdout"
        }
      ]
    },
    {
      "cell_type": "markdown",
      "metadata": {
        "id": "csNsq7md0KgT"
      },
      "source": [
        "<h1 align='center'>  HR ANALYTICS CHALLENGE </h1>\n",
        "<h3 align='center'> <b>Predict Whether a Potential Promotee Will be Promoted or Not</b> </h3>"
      ]
    },
    {
      "cell_type": "markdown",
      "metadata": {
        "id": "ZD3qLZCH0Kgx"
      },
      "source": [
        "### **The Challenge**\n",
        "\n",
        "HR analytics is revolutionising the way human resources departments operate, leading to higher efficiency and better results overall. Human resources has been using analytics for years. However, the collection, processing and analysis of data has been largely manual, and given the nature of human resources dynamics and HR KPIs, the approach has been constraining HR. Therefore, it is surprising that HR departments woke up to the utility of machine learning so late in the game. "
      ]
    },
    {
      "cell_type": "markdown",
      "metadata": {
        "id": "fVl3YHk40Kg0"
      },
      "source": [
        "## 0. Import relevant Dependencies\n",
        "\n",
        "Incase you are getting any error saying the package is not installed while running the below cell, then you can use two methods:\n",
        "- pip install ________.\n",
        "- google 'How to install ________'."
      ]
    },
    {
      "cell_type": "code",
      "metadata": {
        "id": "2g2bhJdA0Kg-"
      },
      "source": [
        "# Import Dependencies -To see the graphs in the notebook.\n",
        "%matplotlib inline   \n",
        "\n",
        "# Python Imports\n",
        "import math,time,random,datetime\n",
        "\n",
        "# Data Manipulation\n",
        "import numpy as np\n",
        "import pandas as pd\n",
        "\n",
        "# Visualization -This is where the graphs come in.\n",
        "import matplotlib.pyplot as plt\n",
        "import seaborn as sns\n",
        "import missingno\n",
        "plt.style.use('fivethirtyeight')\n",
        "\n",
        "# Preprocessing\n",
        "from sklearn.preprocessing import OneHotEncoder, LabelEncoder, label_binarize\n",
        "\n",
        "# Machine Learning\n",
        "from sklearn.model_selection import train_test_split\n",
        "from sklearn import model_selection, tree, preprocessing, metrics, linear_model\n",
        "from sklearn.svm import LinearSVC\n",
        "from sklearn.ensemble import GradientBoostingClassifier\n",
        "from sklearn.neighbors import KNeighborsClassifier\n",
        "from sklearn.naive_bayes import GaussianNB\n",
        "from sklearn.linear_model import LogisticRegression, SGDClassifier\n",
        "from sklearn.tree import DecisionTreeClassifier\n",
        "from sklearn.ensemble import RandomForestClassifier\n",
        "\n",
        "# Performance Metrics\n",
        "from sklearn.metrics import accuracy_score\n",
        "from sklearn.metrics import precision_score\n",
        "from sklearn.metrics import recall_score\n",
        "from sklearn.metrics import f1_score\n",
        "\n",
        "# Ignore Warnings\n",
        "import warnings\n",
        "warnings.filterwarnings('ignore')\n",
        "\n",
        "# Display all the columns/rows of the DataFrame.\n",
        "pd.set_option('display.max_columns', None)\n",
        "pd.set_option('display.max_rows', None)"
      ],
      "execution_count": 3,
      "outputs": []
    },
    {
      "cell_type": "markdown",
      "metadata": {
        "id": "WBJ_se2K0KhD"
      },
      "source": [
        "## 0. Loading the required Data"
      ]
    },
    {
      "cell_type": "code",
      "metadata": {
        "id": "mOAYCGoT0KhF"
      },
      "source": [
        "# Import the train data.\n",
        "train = pd.read_csv('/content/gdrive/My Drive/Final_train.csv')"
      ],
      "execution_count": 4,
      "outputs": []
    },
    {
      "cell_type": "markdown",
      "metadata": {
        "id": "Hf2xI8BD0KhI"
      },
      "source": [
        "## 1. Model Building\n",
        "\n",
        "### Algorithms\n",
        "From here, we will be running the following algorithms.\n",
        "\n",
        "- Logistic Regression\n",
        "- KNN\n",
        "- Naive Bayes\n",
        "- Stochastic Gradient Decent\n",
        "- Linear SVC\n",
        "- Decision Tree\n",
        "- Gradient Boosted Trees\n",
        "- Random Forest\n",
        "- CatBoost Algorithm"
      ]
    },
    {
      "cell_type": "code",
      "metadata": {
        "colab": {
          "base_uri": "https://localhost:8080/",
          "height": 243
        },
        "id": "Mhsz9E-N0KhP",
        "outputId": "c739f90c-d2e0-4673-ee52-a6d814b40e1f"
      },
      "source": [
        "train.head()"
      ],
      "execution_count": 5,
      "outputs": [
        {
          "output_type": "execute_result",
          "data": {
            "text/html": [
              "<div>\n",
              "<style scoped>\n",
              "    .dataframe tbody tr th:only-of-type {\n",
              "        vertical-align: middle;\n",
              "    }\n",
              "\n",
              "    .dataframe tbody tr th {\n",
              "        vertical-align: top;\n",
              "    }\n",
              "\n",
              "    .dataframe thead th {\n",
              "        text-align: right;\n",
              "    }\n",
              "</style>\n",
              "<table border=\"1\" class=\"dataframe\">\n",
              "  <thead>\n",
              "    <tr style=\"text-align: right;\">\n",
              "      <th></th>\n",
              "      <th>is_promoted</th>\n",
              "      <th>department</th>\n",
              "      <th>education</th>\n",
              "      <th>gender</th>\n",
              "      <th>recruitment_channel</th>\n",
              "      <th>no_of_trainings</th>\n",
              "      <th>previous_year_rating</th>\n",
              "      <th>length_of_service</th>\n",
              "      <th>KPIs_met &gt;80%</th>\n",
              "      <th>awards_won?</th>\n",
              "      <th>avg_training_score</th>\n",
              "    </tr>\n",
              "  </thead>\n",
              "  <tbody>\n",
              "    <tr>\n",
              "      <th>0</th>\n",
              "      <td>0</td>\n",
              "      <td>7</td>\n",
              "      <td>2</td>\n",
              "      <td>0</td>\n",
              "      <td>2</td>\n",
              "      <td>-0.415276</td>\n",
              "      <td>1.385021</td>\n",
              "      <td>0.500460</td>\n",
              "      <td>1.356878</td>\n",
              "      <td>-0.154018</td>\n",
              "      <td>-1.075931</td>\n",
              "    </tr>\n",
              "    <tr>\n",
              "      <th>1</th>\n",
              "      <td>0</td>\n",
              "      <td>4</td>\n",
              "      <td>0</td>\n",
              "      <td>1</td>\n",
              "      <td>0</td>\n",
              "      <td>-0.415276</td>\n",
              "      <td>1.385021</td>\n",
              "      <td>-0.437395</td>\n",
              "      <td>-0.736986</td>\n",
              "      <td>-0.154018</td>\n",
              "      <td>-0.253282</td>\n",
              "    </tr>\n",
              "    <tr>\n",
              "      <th>2</th>\n",
              "      <td>0</td>\n",
              "      <td>7</td>\n",
              "      <td>0</td>\n",
              "      <td>1</td>\n",
              "      <td>2</td>\n",
              "      <td>-0.415276</td>\n",
              "      <td>-0.259125</td>\n",
              "      <td>0.265996</td>\n",
              "      <td>-0.736986</td>\n",
              "      <td>-0.154018</td>\n",
              "      <td>-1.001145</td>\n",
              "    </tr>\n",
              "    <tr>\n",
              "      <th>3</th>\n",
              "      <td>0</td>\n",
              "      <td>7</td>\n",
              "      <td>0</td>\n",
              "      <td>1</td>\n",
              "      <td>0</td>\n",
              "      <td>1.226063</td>\n",
              "      <td>-1.903271</td>\n",
              "      <td>0.969387</td>\n",
              "      <td>-0.736986</td>\n",
              "      <td>-0.154018</td>\n",
              "      <td>-1.001145</td>\n",
              "    </tr>\n",
              "    <tr>\n",
              "      <th>4</th>\n",
              "      <td>0</td>\n",
              "      <td>8</td>\n",
              "      <td>0</td>\n",
              "      <td>1</td>\n",
              "      <td>0</td>\n",
              "      <td>-0.415276</td>\n",
              "      <td>-0.259125</td>\n",
              "      <td>-0.906322</td>\n",
              "      <td>-0.736986</td>\n",
              "      <td>-0.154018</td>\n",
              "      <td>0.718939</td>\n",
              "    </tr>\n",
              "  </tbody>\n",
              "</table>\n",
              "</div>"
            ],
            "text/plain": [
              "   is_promoted  department  education  gender  recruitment_channel  \\\n",
              "0            0           7          2       0                    2   \n",
              "1            0           4          0       1                    0   \n",
              "2            0           7          0       1                    2   \n",
              "3            0           7          0       1                    0   \n",
              "4            0           8          0       1                    0   \n",
              "\n",
              "   no_of_trainings  previous_year_rating  length_of_service  KPIs_met >80%  \\\n",
              "0        -0.415276              1.385021           0.500460       1.356878   \n",
              "1        -0.415276              1.385021          -0.437395      -0.736986   \n",
              "2        -0.415276             -0.259125           0.265996      -0.736986   \n",
              "3         1.226063             -1.903271           0.969387      -0.736986   \n",
              "4        -0.415276             -0.259125          -0.906322      -0.736986   \n",
              "\n",
              "   awards_won?  avg_training_score  \n",
              "0    -0.154018           -1.075931  \n",
              "1    -0.154018           -0.253282  \n",
              "2    -0.154018           -1.001145  \n",
              "3    -0.154018           -1.001145  \n",
              "4    -0.154018            0.718939  "
            ]
          },
          "metadata": {
            "tags": []
          },
          "execution_count": 5
        }
      ]
    },
    {
      "cell_type": "code",
      "metadata": {
        "id": "nlvYEK_A0KhW"
      },
      "source": [
        "X = train.drop(columns= 'is_promoted')\n",
        "y = train['is_promoted']"
      ],
      "execution_count": 6,
      "outputs": []
    },
    {
      "cell_type": "markdown",
      "metadata": {
        "id": "B0tnr25w0Kh1"
      },
      "source": [
        "### Overcoming Class Imbalance"
      ]
    },
    {
      "cell_type": "code",
      "metadata": {
        "id": "6eQj-Vds0Kh-"
      },
      "source": [
        "from imblearn.combine import SMOTETomek\n",
        "from collections import Counter"
      ],
      "execution_count": 7,
      "outputs": []
    },
    {
      "cell_type": "code",
      "metadata": {
        "id": "WFHpwTh00KiA"
      },
      "source": [
        "X_train, X_test, y_train, y_test = train_test_split(X, y, test_size= 0.2, random_state= 42)"
      ],
      "execution_count": 9,
      "outputs": []
    },
    {
      "cell_type": "code",
      "metadata": {
        "colab": {
          "base_uri": "https://localhost:8080/"
        },
        "id": "FCsw6wRk0KiB",
        "outputId": "d61cce4a-df79-4102-dbbb-c6a5f9e1e4b0"
      },
      "source": [
        "os= SMOTETomek(random_state= 42)\n",
        "X_train_ns,y_train_ns = os.fit_resample(X_train,y_train)\n",
        "print(\"The number of classes before fit {}\".format(Counter(y_train)))\n",
        "print(\"The number of classes after fit {}\".format(Counter(y_train_ns)))"
      ],
      "execution_count": 10,
      "outputs": [
        {
          "output_type": "stream",
          "text": [
            "The number of classes before fit Counter({0: 40086, 1: 3760})\n",
            "The number of classes after fit Counter({0: 39518, 1: 39518})\n"
          ],
          "name": "stdout"
        }
      ]
    },
    {
      "cell_type": "markdown",
      "metadata": {
        "id": "3IF2-4xu0KiD"
      },
      "source": [
        "In any model building, we mainly focus on 3 main steps:\n",
        "\n",
        "- Fitting the model and finding the accuracy (accuracy score) of the fitted model.\n",
        "- Perform K-Fold Cross Validation (K needs to be specified).\n",
        "- Find the accuracy of the Cross Validation. \n",
        "\n",
        "**We will be running a whole bunch of models to figure out which model is best suited for our data.**"
      ]
    },
    {
      "cell_type": "markdown",
      "metadata": {
        "id": "7jsL26d30KiF"
      },
      "source": [
        "#### Model 1: Logistic Regression"
      ]
    },
    {
      "cell_type": "code",
      "metadata": {
        "id": "F0PaRw-80KiG"
      },
      "source": [
        "start_time = time.time()\n",
        "algorithm = LogisticRegression()\n",
        "\n",
        "## Step 1:\n",
        "model = algorithm.fit(X_train_ns,y_train_ns)      # Creating the model. We will fit the algorithm to the training data.\n",
        "log_acc = round(model.score(X_train_ns,y_train_ns)*100, 2)\n",
        "\n",
        "## Step 2:  --> This code performs Cross Validation automatically.\n",
        "log_train_pred = model_selection.cross_val_predict(algorithm, X_train_ns,y_train_ns, cv= 10, n_jobs= -1)\n",
        "\n",
        "## Step 3:  --> Cross Validation accuracy metric.\n",
        "log_acc_cv = round(metrics.accuracy_score(y_train_ns, log_train_pred)*100, 2)\n",
        "\n",
        "log_pre_cv = precision_score(y_train_ns, log_train_pred)\n",
        "log_rec_cv = recall_score(y_train_ns, log_train_pred)\n",
        "log_f1_cv = f1_score(y_train_ns, log_train_pred)\n",
        "\n",
        "log_time = (time.time()- start_time)"
      ],
      "execution_count": 11,
      "outputs": []
    },
    {
      "cell_type": "code",
      "metadata": {
        "colab": {
          "base_uri": "https://localhost:8080/"
        },
        "id": "DJIEQ3l_0KiH",
        "outputId": "4db80a5b-75c8-48b6-a908-41cc20d944c8"
      },
      "source": [
        "# Logistic Regression\n",
        "print('Accuracy of the model is: ', log_acc)\n",
        "print('Accuracy of 10-Fold CV is: ', log_acc_cv)\n",
        "print('Running time is: ', datetime.timedelta(seconds= log_time))\n",
        "\n",
        "print('Precision: ', log_pre_cv)\n",
        "print('Recall: ', log_rec_cv)\n",
        "print('F1-Score: ', log_f1_cv)\n"
      ],
      "execution_count": 12,
      "outputs": [
        {
          "output_type": "stream",
          "text": [
            "Accuracy of the model is:  72.17\n",
            "Accuracy of 10-Fold CV is:  72.17\n",
            "Running time is:  0:00:03.494938\n",
            "Precision:  0.7230299172501591\n",
            "Recall:  0.7185839364340301\n",
            "F1-Score:  0.7208000710723034\n"
          ],
          "name": "stdout"
        }
      ]
    },
    {
      "cell_type": "markdown",
      "metadata": {
        "id": "cv7aWPOM0KiK"
      },
      "source": [
        "#### Model 2: K-Nearest Neighbours"
      ]
    },
    {
      "cell_type": "code",
      "metadata": {
        "id": "bzlNb96j0KiN"
      },
      "source": [
        "start_time = time.time()\n",
        "algorithm = KNeighborsClassifier()\n",
        "\n",
        "## Step 1:\n",
        "model = algorithm.fit(X_train_ns,y_train_ns)      # Creating the model. We will fit the algorithm to the training data.\n",
        "knn_acc = round(model.score(X_train_ns,y_train_ns)*100, 2)\n",
        "\n",
        "## Step 2:  --> This code performs Cross Validation automatically.\n",
        "knn_train_pred = model_selection.cross_val_predict(algorithm, X_train_ns,y_train_ns, cv= 10, n_jobs= -1)\n",
        "\n",
        "## Step 3:  --> Cross Validation accuracy metric.\n",
        "knn_acc_cv = round(metrics.accuracy_score(y_train_ns, knn_train_pred)*100, 2)\n",
        "\n",
        "knn_pre_cv = precision_score(y_train_ns, knn_train_pred)\n",
        "knn_rec_cv = recall_score(y_train_ns, knn_train_pred)\n",
        "knn_f1_cv = f1_score(y_train_ns, knn_train_pred)\n",
        "\n",
        "knn_time = (time.time()- start_time)"
      ],
      "execution_count": 13,
      "outputs": []
    },
    {
      "cell_type": "code",
      "metadata": {
        "colab": {
          "base_uri": "https://localhost:8080/"
        },
        "id": "-LXjC-rm0KiQ",
        "outputId": "a846d13f-f2b6-42c6-e6dc-12c9b8319816"
      },
      "source": [
        "# K-Nearest Neighbours\n",
        "print('Accuracy of the model is: ', knn_acc)\n",
        "print('Accuracy of 10-Fold CV is: ', knn_acc_cv)\n",
        "print('Running time is: ', datetime.timedelta(seconds= knn_time))\n",
        "\n",
        "print('Precision: ', knn_pre_cv)\n",
        "print('Recall: ', knn_rec_cv)\n",
        "print('F1-Score: ', knn_f1_cv)"
      ],
      "execution_count": 14,
      "outputs": [
        {
          "output_type": "stream",
          "text": [
            "Accuracy of the model is:  93.67\n",
            "Accuracy of 10-Fold CV is:  90.41\n",
            "Running time is:  0:01:19.105205\n",
            "Precision:  0.875646937047144\n",
            "Recall:  0.9418998937193178\n",
            "F1-Score:  0.9075658937410088\n"
          ],
          "name": "stdout"
        }
      ]
    },
    {
      "cell_type": "markdown",
      "metadata": {
        "id": "IkFjZJ0O0KiR"
      },
      "source": [
        "#### Model 3: Gaussian Naive Bayes"
      ]
    },
    {
      "cell_type": "code",
      "metadata": {
        "id": "989-NAYH0KiS"
      },
      "source": [
        "start_time = time.time()\n",
        "algorithm = GaussianNB()\n",
        "\n",
        "## Step 1:\n",
        "model = algorithm.fit(X_train_ns,y_train_ns)      # Creating the model. We will fit the algorithm to the training data.\n",
        "gnb_acc = round(model.score(X_train_ns,y_train_ns)*100, 2)\n",
        "\n",
        "## Step 2:  --> This code performs Cross Validation automatically.\n",
        "gnb_train_pred = model_selection.cross_val_predict(algorithm, X_train_ns,y_train_ns, cv= 10, n_jobs= -1)\n",
        "\n",
        "## Step 3:  --> Cross Validation accuracy metric.\n",
        "gnb_acc_cv = round(metrics.accuracy_score(y_train_ns, gnb_train_pred)*100, 2)\n",
        "\n",
        "gnb_pre_cv = precision_score(y_train_ns, gnb_train_pred)\n",
        "gnb_rec_cv = recall_score(y_train_ns, gnb_train_pred)\n",
        "gnb_f1_cv = f1_score(y_train_ns, gnb_train_pred)\n",
        "\n",
        "gnb_time = (time.time()- start_time)"
      ],
      "execution_count": 15,
      "outputs": []
    },
    {
      "cell_type": "code",
      "metadata": {
        "colab": {
          "base_uri": "https://localhost:8080/"
        },
        "id": "aYrRB5s80KiU",
        "outputId": "0fe3e478-ff8a-434f-d585-5e081fba8d5e"
      },
      "source": [
        "# Gaussian Naive Bayes\n",
        "print('Accuracy of the model is: ', gnb_acc)\n",
        "print('Accuracy of 10-Fold CV is: ', gnb_acc_cv)\n",
        "print('Running time is: ', datetime.timedelta(seconds= gnb_time))\n",
        "\n",
        "print('Precision: ', gnb_pre_cv)\n",
        "print('Recall: ', gnb_rec_cv)\n",
        "print('F1-Score: ', gnb_f1_cv)"
      ],
      "execution_count": 16,
      "outputs": [
        {
          "output_type": "stream",
          "text": [
            "Accuracy of the model is:  67.3\n",
            "Accuracy of 10-Fold CV is:  67.32\n",
            "Running time is:  0:00:00.571526\n",
            "Precision:  0.7483494159471813\n",
            "Recall:  0.5220152841743003\n",
            "F1-Score:  0.6150199749567706\n"
          ],
          "name": "stdout"
        }
      ]
    },
    {
      "cell_type": "markdown",
      "metadata": {
        "id": "qYUEvJlL0KiW"
      },
      "source": [
        "#### Model 4: Linear Support Vector Machines (SVC)"
      ]
    },
    {
      "cell_type": "code",
      "metadata": {
        "id": "NX2_iAZG0KiW"
      },
      "source": [
        "start_time = time.time()\n",
        "algorithm = LinearSVC()\n",
        "\n",
        "## Step 1:\n",
        "model = algorithm.fit(X_train_ns,y_train_ns)      # Creating the model. We will fit the algorithm to the training data.\n",
        "svc_acc = round(model.score(X_train_ns,y_train_ns)*100, 2)\n",
        "\n",
        "## Step 2:  --> This code performs Cross Validation automatically.\n",
        "svc_train_pred = model_selection.cross_val_predict(algorithm, X_train_ns,y_train_ns, cv= 10, n_jobs= -1)\n",
        "\n",
        "## Step 3:  --> Cross Validation accuracy metric.\n",
        "svc_acc_cv = round(metrics.accuracy_score(y_train_ns, svc_train_pred)*100, 2)\n",
        "\n",
        "svc_pre_cv = precision_score(y_train_ns, svc_train_pred)\n",
        "svc_rec_cv = recall_score(y_train_ns, svc_train_pred)\n",
        "svc_f1_cv = f1_score(y_train_ns, svc_train_pred)\n",
        "\n",
        "svc_time = (time.time()- start_time)"
      ],
      "execution_count": 17,
      "outputs": []
    },
    {
      "cell_type": "code",
      "metadata": {
        "colab": {
          "base_uri": "https://localhost:8080/"
        },
        "id": "-csgfcBc0KiX",
        "outputId": "164e0e5d-9657-459f-acb0-f00cb46d6e5e"
      },
      "source": [
        "# Linear Support Vector Machines\n",
        "print('Accuracy of the model is: ', svc_acc)\n",
        "print('Accuracy of 10-Fold CV is: ', svc_acc_cv)\n",
        "print('Running time is: ', datetime.timedelta(seconds= svc_time))\n",
        "\n",
        "print('Precision: ', svc_pre_cv)\n",
        "print('Recall: ', svc_rec_cv)\n",
        "print('F1-Score: ', svc_f1_cv)"
      ],
      "execution_count": 18,
      "outputs": [
        {
          "output_type": "stream",
          "text": [
            "Accuracy of the model is:  72.53\n",
            "Accuracy of 10-Fold CV is:  72.55\n",
            "Running time is:  0:02:30.294694\n",
            "Precision:  0.7242984774128602\n",
            "Recall:  0.7282757224555898\n",
            "F1-Score:  0.7262816549531247\n"
          ],
          "name": "stdout"
        }
      ]
    },
    {
      "cell_type": "markdown",
      "metadata": {
        "id": "mPYo6GXZ0KiZ"
      },
      "source": [
        "#### Model 5: Stochastic Gradient Descent"
      ]
    },
    {
      "cell_type": "code",
      "metadata": {
        "id": "cwTw2kdw0Kia"
      },
      "source": [
        "start_time = time.time()\n",
        "algorithm = SGDClassifier()\n",
        "\n",
        "## Step 1:\n",
        "model = algorithm.fit(X_train_ns,y_train_ns)      # Creating the model. We will fit the algorithm to the training data.\n",
        "SGD_acc = round(model.score(X_train_ns,y_train_ns)*100, 2)\n",
        "\n",
        "## Step 2:  --> This code performs Cross Validation automatically.\n",
        "SGD_train_pred = model_selection.cross_val_predict(algorithm, X_train_ns,y_train_ns, cv= 10, n_jobs= -1)\n",
        "\n",
        "## Step 3:  --> Cross Validation accuracy metric.\n",
        "SGD_acc_cv = round(metrics.accuracy_score(y_train_ns, SGD_train_pred)*100, 2)\n",
        "\n",
        "SGD_pre_cv = precision_score(y_train_ns, SGD_train_pred)\n",
        "SGD_rec_cv = recall_score(y_train_ns, SGD_train_pred)\n",
        "SGD_f1_cv = f1_score(y_train_ns, SGD_train_pred)\n",
        "\n",
        "SGD_time = (time.time()- start_time)"
      ],
      "execution_count": 19,
      "outputs": []
    },
    {
      "cell_type": "code",
      "metadata": {
        "colab": {
          "base_uri": "https://localhost:8080/"
        },
        "id": "BxxXGh870Kib",
        "outputId": "1b25bac8-72dd-4849-986d-f6d75fafa6f2"
      },
      "source": [
        "# Stochastic Gradient Descent\n",
        "print('Accuracy of the model is: ', SGD_acc)\n",
        "print('Accuracy of 10-Fold CV is: ', SGD_acc_cv)\n",
        "print('Running time is: ', datetime.timedelta(seconds= SGD_time))\n",
        "\n",
        "print('Precision: ', SGD_pre_cv)\n",
        "print('Recall: ', SGD_rec_cv)\n",
        "print('F1-Score: ', SGD_f1_cv)"
      ],
      "execution_count": 20,
      "outputs": [
        {
          "output_type": "stream",
          "text": [
            "Accuracy of the model is:  73.68\n",
            "Accuracy of 10-Fold CV is:  72.68\n",
            "Running time is:  0:00:05.477207\n",
            "Precision:  0.7120247924108727\n",
            "Recall:  0.7616276127334379\n",
            "F1-Score:  0.7359913924855421\n"
          ],
          "name": "stdout"
        }
      ]
    },
    {
      "cell_type": "markdown",
      "metadata": {
        "id": "pU2XccNU0KjE"
      },
      "source": [
        "#### Model 6: Decision Tree Classifier"
      ]
    },
    {
      "cell_type": "code",
      "metadata": {
        "id": "ORYdkNCC0KjG"
      },
      "source": [
        "start_time = time.time()\n",
        "algorithm = DecisionTreeClassifier()\n",
        "\n",
        "## Step 1:\n",
        "model = algorithm.fit(X_train_ns,y_train_ns)      # Creating the model. We will fit the algorithm to the training data.\n",
        "dt_acc = round(model.score(X_train_ns,y_train_ns)*100, 2)\n",
        "\n",
        "## Step 2:  --> This code performs Cross Validation automatically.\n",
        "dt_train_pred = model_selection.cross_val_predict(algorithm, X_train_ns,y_train_ns, cv= 10, n_jobs= -1)\n",
        "\n",
        "## Step 3:  --> Cross Validation accuracy metric.\n",
        "dt_acc_cv = round(metrics.accuracy_score(y_train_ns, dt_train_pred)*100, 2)\n",
        "\n",
        "dt_pre_cv = precision_score(y_train_ns, dt_train_pred)\n",
        "dt_rec_cv = recall_score(y_train_ns, dt_train_pred)\n",
        "dt_f1_cv = f1_score(y_train_ns, dt_train_pred)\n",
        "\n",
        "dt_time = (time.time()- start_time)"
      ],
      "execution_count": 21,
      "outputs": []
    },
    {
      "cell_type": "code",
      "metadata": {
        "colab": {
          "base_uri": "https://localhost:8080/"
        },
        "id": "1bKjy3720KjH",
        "outputId": "c01bea71-daa9-4777-c079-42fc698b550b"
      },
      "source": [
        "#  Decision Tree Classifier\n",
        "print('Accuracy of the model is: ', dt_acc)\n",
        "print('Accuracy of 10-Fold CV is: ', dt_acc_cv)\n",
        "print('Running time is: ', datetime.timedelta(seconds= dt_time))\n",
        "\n",
        "print('Precision: ', dt_pre_cv)\n",
        "print('Recall: ', dt_rec_cv)\n",
        "print('F1-Score: ', dt_f1_cv)"
      ],
      "execution_count": 22,
      "outputs": [
        {
          "output_type": "stream",
          "text": [
            "Accuracy of the model is:  98.76\n",
            "Accuracy of 10-Fold CV is:  94.06\n",
            "Running time is:  0:00:02.985321\n",
            "Precision:  0.9485059247810407\n",
            "Recall:  0.931752619059669\n",
            "F1-Score:  0.9400546350430187\n"
          ],
          "name": "stdout"
        }
      ]
    },
    {
      "cell_type": "markdown",
      "metadata": {
        "id": "ZVsA6bK_0KjJ"
      },
      "source": [
        "#### Model 7: Gradient Boost Trees"
      ]
    },
    {
      "cell_type": "code",
      "metadata": {
        "id": "1elI7M8c0KjL"
      },
      "source": [
        "start_time = time.time()\n",
        "algorithm = GradientBoostingClassifier()\n",
        "\n",
        "## Step 1:\n",
        "model = algorithm.fit(X_train_ns,y_train_ns)      # Creating the model. We will fit the algorithm to the training data.\n",
        "gbt_acc = round(model.score(X_train_ns,y_train_ns)*100, 2)\n",
        "\n",
        "## Step 2:  --> This code performs Cross Validation automatically.\n",
        "gbt_train_pred = model_selection.cross_val_predict(algorithm, X_train_ns,y_train_ns, cv= 10, n_jobs= -1)\n",
        "\n",
        "## Step 3:  --> Cross Validation accuracy metric.\n",
        "gbt_acc_cv = round(metrics.accuracy_score(y_train_ns, gbt_train_pred)*100, 2)\n",
        "\n",
        "gbt_pre_cv = precision_score(y_train_ns, gbt_train_pred)\n",
        "gbt_rec_cv = recall_score(y_train_ns, gbt_train_pred)\n",
        "gbt_f1_cv = f1_score(y_train_ns, gbt_train_pred)\n",
        "\n",
        "gbt_time = (time.time()- start_time)"
      ],
      "execution_count": 23,
      "outputs": []
    },
    {
      "cell_type": "code",
      "metadata": {
        "colab": {
          "base_uri": "https://localhost:8080/"
        },
        "id": "zk4rPZhN0KjM",
        "outputId": "12689d11-7514-4ca1-a903-1d1dfcbf8adc"
      },
      "source": [
        "# Gradient Boost Trees\n",
        "print('Accuracy of the model is: ', gbt_acc)\n",
        "print('Accuracy of 10-Fold CV is: ', gbt_acc_cv)\n",
        "print('Running time is: ', datetime.timedelta(seconds= gbt_time))\n",
        "\n",
        "print('Precision: ', gbt_pre_cv)\n",
        "print('Recall: ', gbt_rec_cv)\n",
        "print('F1-Score: ', gbt_f1_cv)"
      ],
      "execution_count": 24,
      "outputs": [
        {
          "output_type": "stream",
          "text": [
            "Accuracy of the model is:  87.94\n",
            "Accuracy of 10-Fold CV is:  87.12\n",
            "Running time is:  0:01:25.181975\n",
            "Precision:  0.844112886198888\n",
            "Recall:  0.9105217875398552\n",
            "F1-Score:  0.8760606245054477\n"
          ],
          "name": "stdout"
        }
      ]
    },
    {
      "cell_type": "markdown",
      "metadata": {
        "id": "1ELIVQy40Kjd"
      },
      "source": [
        "#### Model 8: Random Forest\n"
      ]
    },
    {
      "cell_type": "code",
      "metadata": {
        "id": "OF6OWp9T0Kjt"
      },
      "source": [
        "start_time = time.time()\n",
        "algorithm = RandomForestClassifier()\n",
        "\n",
        "## Step 1:\n",
        "model = algorithm.fit(X_train_ns,y_train_ns)      # Creating the model. We will fit the algorithm to the training data.\n",
        "rf_acc = round(model.score(X_train_ns,y_train_ns)*100, 2)\n",
        "\n",
        "## Step 2:  --> This code performs Cross Validation automatically.\n",
        "rf_train_pred = model_selection.cross_val_predict(algorithm, X_train_ns,y_train_ns, cv= 10, n_jobs= -1)\n",
        "\n",
        "## Step 3:  --> Cross Validation accuracy metric.\n",
        "rf_acc_cv = round(metrics.accuracy_score(y_train_ns, rf_train_pred)*100, 2)\n",
        "\n",
        "rf_pre_cv = precision_score(y_train_ns, rf_train_pred)\n",
        "rf_rec_cv = recall_score(y_train_ns, rf_train_pred)\n",
        "rf_f1_cv = f1_score(y_train_ns, rf_train_pred)\n",
        "\n",
        "rf_time = (time.time()- start_time)"
      ],
      "execution_count": 25,
      "outputs": []
    },
    {
      "cell_type": "code",
      "metadata": {
        "colab": {
          "base_uri": "https://localhost:8080/"
        },
        "id": "Ity3WrQ_0Kju",
        "outputId": "e723667e-9ef8-46b2-b35f-006f9472db7b"
      },
      "source": [
        "print('Accuracy of the model is: ', rf_acc)\n",
        "print('Accuracy of 10-Fold CV is: ', rf_acc_cv)\n",
        "print('Running time is: ', datetime.timedelta(seconds= rf_time))\n",
        "\n",
        "print('Precision: ', rf_pre_cv)\n",
        "print('Recall: ', rf_rec_cv)\n",
        "print('F1-Score: ', rf_f1_cv)"
      ],
      "execution_count": 26,
      "outputs": [
        {
          "output_type": "stream",
          "text": [
            "Accuracy of the model is:  98.76\n",
            "Accuracy of 10-Fold CV is:  95.35\n",
            "Running time is:  0:01:13.699100\n",
            "Precision:  0.957189509133585\n",
            "Recall:  0.9493901513234475\n",
            "F1-Score:  0.9532738775821328\n"
          ],
          "name": "stdout"
        }
      ]
    },
    {
      "cell_type": "markdown",
      "metadata": {
        "id": "boRvwkzV0Kj2"
      },
      "source": [
        "### Model Results\n",
        "\n",
        "Now let's see which model has the best cross-validation accuracy.\n",
        "\n",
        "- <b>NOTE:</b> We care more about the accuracy of cross validation, as the metrics we get from the model can randomly score higher than usual."
      ]
    },
    {
      "cell_type": "code",
      "metadata": {
        "colab": {
          "base_uri": "https://localhost:8080/",
          "height": 317
        },
        "id": "YOsBwWe80Kj3",
        "outputId": "019e962d-ba87-4d4a-93af-b6600c8eb1cd"
      },
      "source": [
        "cv_models = pd.DataFrame({'Model':[' Logistic Regression', 'K-Nearest Neighbours', 'Gaussian Naive Bayes', \n",
        "                                'Linear Support Vector Machines (SVC)', 'Stochastic Gradient Descent', \n",
        "                                'Decision Tree Classifier', 'Gradient Boost Trees', 'Random Forest'],\n",
        "                      'Score':[log_acc_cv, knn_acc_cv, gnb_acc_cv, svc_acc_cv, SGD_acc_cv, dt_acc_cv, gbt_acc_cv, rf_acc_cv]})\n",
        "\n",
        "print('-----Cross-Validation Accuracy Scores-----')\n",
        "cv_models.nlargest(9,'Score')"
      ],
      "execution_count": 27,
      "outputs": [
        {
          "output_type": "stream",
          "text": [
            "-----Cross-Validation Accuracy Scores-----\n"
          ],
          "name": "stdout"
        },
        {
          "output_type": "execute_result",
          "data": {
            "text/html": [
              "<div>\n",
              "<style scoped>\n",
              "    .dataframe tbody tr th:only-of-type {\n",
              "        vertical-align: middle;\n",
              "    }\n",
              "\n",
              "    .dataframe tbody tr th {\n",
              "        vertical-align: top;\n",
              "    }\n",
              "\n",
              "    .dataframe thead th {\n",
              "        text-align: right;\n",
              "    }\n",
              "</style>\n",
              "<table border=\"1\" class=\"dataframe\">\n",
              "  <thead>\n",
              "    <tr style=\"text-align: right;\">\n",
              "      <th></th>\n",
              "      <th>Model</th>\n",
              "      <th>Score</th>\n",
              "    </tr>\n",
              "  </thead>\n",
              "  <tbody>\n",
              "    <tr>\n",
              "      <th>7</th>\n",
              "      <td>Random Forest</td>\n",
              "      <td>95.35</td>\n",
              "    </tr>\n",
              "    <tr>\n",
              "      <th>5</th>\n",
              "      <td>Decision Tree Classifier</td>\n",
              "      <td>94.06</td>\n",
              "    </tr>\n",
              "    <tr>\n",
              "      <th>1</th>\n",
              "      <td>K-Nearest Neighbours</td>\n",
              "      <td>90.41</td>\n",
              "    </tr>\n",
              "    <tr>\n",
              "      <th>6</th>\n",
              "      <td>Gradient Boost Trees</td>\n",
              "      <td>87.12</td>\n",
              "    </tr>\n",
              "    <tr>\n",
              "      <th>4</th>\n",
              "      <td>Stochastic Gradient Descent</td>\n",
              "      <td>72.68</td>\n",
              "    </tr>\n",
              "    <tr>\n",
              "      <th>3</th>\n",
              "      <td>Linear Support Vector Machines (SVC)</td>\n",
              "      <td>72.55</td>\n",
              "    </tr>\n",
              "    <tr>\n",
              "      <th>0</th>\n",
              "      <td>Logistic Regression</td>\n",
              "      <td>72.17</td>\n",
              "    </tr>\n",
              "    <tr>\n",
              "      <th>2</th>\n",
              "      <td>Gaussian Naive Bayes</td>\n",
              "      <td>67.32</td>\n",
              "    </tr>\n",
              "  </tbody>\n",
              "</table>\n",
              "</div>"
            ],
            "text/plain": [
              "                                  Model  Score\n",
              "7                         Random Forest  95.35\n",
              "5              Decision Tree Classifier  94.06\n",
              "1                  K-Nearest Neighbours  90.41\n",
              "6                  Gradient Boost Trees  87.12\n",
              "4           Stochastic Gradient Descent  72.68\n",
              "3  Linear Support Vector Machines (SVC)  72.55\n",
              "0                   Logistic Regression  72.17\n",
              "2                  Gaussian Naive Bayes  67.32"
            ]
          },
          "metadata": {
            "tags": []
          },
          "execution_count": 27
        }
      ]
    },
    {
      "cell_type": "markdown",
      "metadata": {
        "id": "biIxXn-V0Kj4"
      },
      "source": [
        "### Precision and Recall\n",
        "\n",
        "Precision and Recall are metrics that you use when you have an imbalanced classification problem.\n",
        "\n",
        "- Recall - a metric which measures a models ability to find all relevant cases in a dataset.\n",
        "- Precision - a metric which measures a models ability to correctly identify only relevant cases.\n",
        "\n",
        "Combining  Precision and Recall gives us the **F1 score.**\n",
        "\n",
        "They fall between 0 and 1, with 1 being better."
      ]
    },
    {
      "cell_type": "code",
      "metadata": {
        "colab": {
          "base_uri": "https://localhost:8080/",
          "height": 317
        },
        "id": "qCkws1CB0Kj5",
        "outputId": "68e36666-f430-41a2-b33f-bcd4f532b378"
      },
      "source": [
        "f1_cv_models = pd.DataFrame({'Model':[' Logistic Regression', 'K-Nearest Neighbours', 'Gaussian Naive Bayes', \n",
        "                                'Linear Support Vector Machines (SVC)', 'Stochastic Gradient Descent', \n",
        "                                'Decision Tree Classifier', 'Gradient Boost Trees', 'Random Forest'],\n",
        "                      'F1-Score':[log_f1_cv, knn_f1_cv, gnb_f1_cv, svc_f1_cv, SGD_f1_cv, dt_f1_cv, gbt_f1_cv, rf_f1_cv]})\n",
        "\n",
        "print('-----Cross-Validation Accuracy Scores-----')\n",
        "f1_cv_models.nlargest(8,'F1-Score')"
      ],
      "execution_count": 28,
      "outputs": [
        {
          "output_type": "stream",
          "text": [
            "-----Cross-Validation Accuracy Scores-----\n"
          ],
          "name": "stdout"
        },
        {
          "output_type": "execute_result",
          "data": {
            "text/html": [
              "<div>\n",
              "<style scoped>\n",
              "    .dataframe tbody tr th:only-of-type {\n",
              "        vertical-align: middle;\n",
              "    }\n",
              "\n",
              "    .dataframe tbody tr th {\n",
              "        vertical-align: top;\n",
              "    }\n",
              "\n",
              "    .dataframe thead th {\n",
              "        text-align: right;\n",
              "    }\n",
              "</style>\n",
              "<table border=\"1\" class=\"dataframe\">\n",
              "  <thead>\n",
              "    <tr style=\"text-align: right;\">\n",
              "      <th></th>\n",
              "      <th>Model</th>\n",
              "      <th>F1-Score</th>\n",
              "    </tr>\n",
              "  </thead>\n",
              "  <tbody>\n",
              "    <tr>\n",
              "      <th>7</th>\n",
              "      <td>Random Forest</td>\n",
              "      <td>0.953274</td>\n",
              "    </tr>\n",
              "    <tr>\n",
              "      <th>5</th>\n",
              "      <td>Decision Tree Classifier</td>\n",
              "      <td>0.940055</td>\n",
              "    </tr>\n",
              "    <tr>\n",
              "      <th>1</th>\n",
              "      <td>K-Nearest Neighbours</td>\n",
              "      <td>0.907566</td>\n",
              "    </tr>\n",
              "    <tr>\n",
              "      <th>6</th>\n",
              "      <td>Gradient Boost Trees</td>\n",
              "      <td>0.876061</td>\n",
              "    </tr>\n",
              "    <tr>\n",
              "      <th>4</th>\n",
              "      <td>Stochastic Gradient Descent</td>\n",
              "      <td>0.735991</td>\n",
              "    </tr>\n",
              "    <tr>\n",
              "      <th>3</th>\n",
              "      <td>Linear Support Vector Machines (SVC)</td>\n",
              "      <td>0.726282</td>\n",
              "    </tr>\n",
              "    <tr>\n",
              "      <th>0</th>\n",
              "      <td>Logistic Regression</td>\n",
              "      <td>0.720800</td>\n",
              "    </tr>\n",
              "    <tr>\n",
              "      <th>2</th>\n",
              "      <td>Gaussian Naive Bayes</td>\n",
              "      <td>0.615020</td>\n",
              "    </tr>\n",
              "  </tbody>\n",
              "</table>\n",
              "</div>"
            ],
            "text/plain": [
              "                                  Model  F1-Score\n",
              "7                         Random Forest  0.953274\n",
              "5              Decision Tree Classifier  0.940055\n",
              "1                  K-Nearest Neighbours  0.907566\n",
              "6                  Gradient Boost Trees  0.876061\n",
              "4           Stochastic Gradient Descent  0.735991\n",
              "3  Linear Support Vector Machines (SVC)  0.726282\n",
              "0                   Logistic Regression  0.720800\n",
              "2                  Gaussian Naive Bayes  0.615020"
            ]
          },
          "metadata": {
            "tags": []
          },
          "execution_count": 28
        }
      ]
    },
    {
      "cell_type": "markdown",
      "metadata": {
        "id": "Zdgmy3IX0Kj6"
      },
      "source": [
        "> **Recall = TP/(TP + FN)**\n",
        "- Here the Recall is pretty high. This means that there is a lesser amount of False Negatives (predicting 'Did not launch' when it was actually 'Launched').\n",
        "\n",
        "> **Pression = TP/(TP + FP)**\n",
        "- Precision is high. Thus, we can say say that there is less False Positives (predicting 'Launched' when it actually 'Did not launch')"
      ]
    },
    {
      "cell_type": "markdown",
      "metadata": {
        "id": "xQN2OSKS0Kj7"
      },
      "source": [
        "## HyperParameter Tuning - Random Forest"
      ]
    },
    {
      "cell_type": "code",
      "metadata": {
        "id": "4LvabMI30Kj7"
      },
      "source": [
        "## Randomized Search CV - Faster than GridSearchCV\n",
        "\n",
        "# The number of trees in the forest.\n",
        "n_estimators = [int(x) for x in np.linspace(start= 100, stop= 1200, num= 12)]\n",
        "# The number of features to consider when looking for the best split\n",
        "max_features = ['auto', 'sqrt']\n",
        "# The maximum depth/levels of the tree.\n",
        "max_depth = [int(x) for x in np.linspace(5, 30, num= 6)]\n",
        "# max_depth.append(None)\n",
        "# Minimum number of samples required to split a node\n",
        "min_samples_split = [2, 5, 10, 15, 100]\n",
        "# Minimum number of samples required at each leaf node\n",
        "min_samples_leaf = [1, 2, 5, 10]\n",
        "# Method of selecting samples for training each tree\n",
        "# bootstrap = [True, False]"
      ],
      "execution_count": 29,
      "outputs": []
    },
    {
      "cell_type": "code",
      "metadata": {
        "colab": {
          "base_uri": "https://localhost:8080/"
        },
        "id": "Y__nnZCC0Kj8",
        "outputId": "a86372a2-c693-4892-86d6-a5cef54b6c15"
      },
      "source": [
        "## Hyper Parameter Optimization\n",
        "\n",
        "## Key Dictionary\n",
        "# Create the random grid\n",
        "random_grid = {'n_estimators': n_estimators,\n",
        "               'max_features': max_features,\n",
        "               'max_depth': max_depth,\n",
        "               'min_samples_split': min_samples_split,\n",
        "               'min_samples_leaf': min_samples_leaf}\n",
        "\n",
        "print(random_grid)"
      ],
      "execution_count": 30,
      "outputs": [
        {
          "output_type": "stream",
          "text": [
            "{'n_estimators': [100, 200, 300, 400, 500, 600, 700, 800, 900, 1000, 1100, 1200], 'max_features': ['auto', 'sqrt'], 'max_depth': [5, 10, 15, 20, 25, 30], 'min_samples_split': [2, 5, 10, 15, 100], 'min_samples_leaf': [1, 2, 5, 10]}\n"
          ],
          "name": "stdout"
        }
      ]
    },
    {
      "cell_type": "code",
      "metadata": {
        "id": "_dcCHROj0Kj9"
      },
      "source": [
        "## Hyper-Parameter Optimization Using RandomizedSearchCV\n",
        "from sklearn.model_selection import RandomizedSearchCV\n",
        "\n",
        "# Use the random grid to search for best hyperparameters\n",
        "# First create the base model to tune\n",
        "from sklearn.ensemble import RandomForestClassifier\n",
        "\n",
        "rf = RandomForestClassifier()"
      ],
      "execution_count": 31,
      "outputs": []
    },
    {
      "cell_type": "code",
      "metadata": {
        "id": "8YWJkxtU0Kj-"
      },
      "source": [
        "rf_search = RandomizedSearchCV(estimator= rf, param_distributions= random_grid, scoring= 'f1', n_iter = 50, cv = 5, verbose=2, random_state= 42, n_jobs = -1)"
      ],
      "execution_count": 32,
      "outputs": []
    },
    {
      "cell_type": "code",
      "metadata": {
        "colab": {
          "base_uri": "https://localhost:8080/"
        },
        "id": "LiLRaMO40Kj_",
        "outputId": "ae50c100-ff39-4f4c-c66c-bbcbe58b70fa"
      },
      "source": [
        "rf_search.fit(X_train_ns,y_train_ns)"
      ],
      "execution_count": 33,
      "outputs": [
        {
          "output_type": "stream",
          "text": [
            "Fitting 5 folds for each of 50 candidates, totalling 250 fits\n"
          ],
          "name": "stdout"
        },
        {
          "output_type": "stream",
          "text": [
            "[Parallel(n_jobs=-1)]: Using backend LokyBackend with 2 concurrent workers.\n",
            "[Parallel(n_jobs=-1)]: Done  37 tasks      | elapsed: 11.0min\n",
            "[Parallel(n_jobs=-1)]: Done 158 tasks      | elapsed: 64.9min\n",
            "[Parallel(n_jobs=-1)]: Done 250 out of 250 | elapsed: 110.6min finished\n"
          ],
          "name": "stderr"
        },
        {
          "output_type": "execute_result",
          "data": {
            "text/plain": [
              "RandomizedSearchCV(cv=5, error_score=nan,\n",
              "                   estimator=RandomForestClassifier(bootstrap=True,\n",
              "                                                    ccp_alpha=0.0,\n",
              "                                                    class_weight=None,\n",
              "                                                    criterion='gini',\n",
              "                                                    max_depth=None,\n",
              "                                                    max_features='auto',\n",
              "                                                    max_leaf_nodes=None,\n",
              "                                                    max_samples=None,\n",
              "                                                    min_impurity_decrease=0.0,\n",
              "                                                    min_impurity_split=None,\n",
              "                                                    min_samples_leaf=1,\n",
              "                                                    min_samples_split=2,\n",
              "                                                    min_weight_fraction_leaf=0.0,\n",
              "                                                    n_estimators=100,\n",
              "                                                    n_jobs...\n",
              "                   iid='deprecated', n_iter=50, n_jobs=-1,\n",
              "                   param_distributions={'max_depth': [5, 10, 15, 20, 25, 30],\n",
              "                                        'max_features': ['auto', 'sqrt'],\n",
              "                                        'min_samples_leaf': [1, 2, 5, 10],\n",
              "                                        'min_samples_split': [2, 5, 10, 15,\n",
              "                                                              100],\n",
              "                                        'n_estimators': [100, 200, 300, 400,\n",
              "                                                         500, 600, 700, 800,\n",
              "                                                         900, 1000, 1100,\n",
              "                                                         1200]},\n",
              "                   pre_dispatch='2*n_jobs', random_state=42, refit=True,\n",
              "                   return_train_score=False, scoring='f1', verbose=2)"
            ]
          },
          "metadata": {
            "tags": []
          },
          "execution_count": 33
        }
      ]
    },
    {
      "cell_type": "code",
      "metadata": {
        "colab": {
          "base_uri": "https://localhost:8080/"
        },
        "id": "NWONv09J0KkA",
        "outputId": "3ed88894-4d4d-4a38-bbd7-188bd0aaac42"
      },
      "source": [
        "rf_search.best_params_"
      ],
      "execution_count": 34,
      "outputs": [
        {
          "output_type": "execute_result",
          "data": {
            "text/plain": [
              "{'max_depth': 30,\n",
              " 'max_features': 'sqrt',\n",
              " 'min_samples_leaf': 1,\n",
              " 'min_samples_split': 10,\n",
              " 'n_estimators': 600}"
            ]
          },
          "metadata": {
            "tags": []
          },
          "execution_count": 34
        }
      ]
    },
    {
      "cell_type": "code",
      "metadata": {
        "colab": {
          "base_uri": "https://localhost:8080/"
        },
        "id": "KVW28_FZ0KkE",
        "outputId": "14106775-25f2-4c14-d4eb-cfadc7dfd417"
      },
      "source": [
        "rf_search.best_score_"
      ],
      "execution_count": 35,
      "outputs": [
        {
          "output_type": "execute_result",
          "data": {
            "text/plain": [
              "0.9501187506565991"
            ]
          },
          "metadata": {
            "tags": []
          },
          "execution_count": 35
        }
      ]
    },
    {
      "cell_type": "markdown",
      "metadata": {
        "id": "rG919ngG0KkF"
      },
      "source": [
        "### Prediction\n",
        "\n",
        "Let's use the model with the highest cross-validation accuracy score to make a prediction on the test dataset.\n",
        "\n",
        "We want to make predictions on the same columnns our model is trained on.\n",
        "\n",
        "So we have to select the subset of right columns of the test dateframe, encode them and make a prediciton with our model."
      ]
    },
    {
      "cell_type": "code",
      "metadata": {
        "colab": {
          "base_uri": "https://localhost:8080/"
        },
        "id": "kYvp0wYG0KkG",
        "outputId": "58a6312d-4832-4fb7-fc09-0ace562ffc26"
      },
      "source": [
        "# Create a list of columns to be used for predictions.\n",
        "wanted_columns = X_train.columns\n",
        "wanted_columns"
      ],
      "execution_count": 36,
      "outputs": [
        {
          "output_type": "execute_result",
          "data": {
            "text/plain": [
              "Index(['department', 'education', 'gender', 'recruitment_channel',\n",
              "       'no_of_trainings', 'previous_year_rating', 'length_of_service',\n",
              "       'KPIs_met >80%', 'awards_won?', 'avg_training_score'],\n",
              "      dtype='object')"
            ]
          },
          "metadata": {
            "tags": []
          },
          "execution_count": 36
        }
      ]
    },
    {
      "cell_type": "code",
      "metadata": {
        "id": "tpJPC9vQ0KkI"
      },
      "source": [
        "# Make predictions using RandomForest model on wanted columns.\n",
        "predictions = rf_search.predict(X_test[wanted_columns])"
      ],
      "execution_count": 37,
      "outputs": []
    },
    {
      "cell_type": "code",
      "metadata": {
        "colab": {
          "base_uri": "https://localhost:8080/"
        },
        "id": "HXwIL1vB0KkI",
        "outputId": "12ffd6ca-c912-4fa1-e663-3c193ba9d5fe"
      },
      "source": [
        "#  RandomForest Algorithm\n",
        "print('Accuracy of the model is: ', accuracy_score(y_test, predictions))\n",
        "print('Precision: ', precision_score(y_test, predictions))\n",
        "print('Recall: ', recall_score(y_test, predictions))\n",
        "print('F1: ', f1_score(y_test, predictions))"
      ],
      "execution_count": 38,
      "outputs": [
        {
          "output_type": "stream",
          "text": [
            "Accuracy of the model is:  0.9137931034482759\n",
            "Precision:  0.47810650887573963\n",
            "Recall:  0.44493392070484583\n",
            "F1:  0.46092413006274957\n"
          ],
          "name": "stdout"
        }
      ]
    },
    {
      "cell_type": "markdown",
      "metadata": {
        "id": "G6Fsy0gI0KkK"
      },
      "source": [
        "## 2. Prediction on the Test dataset\n",
        "\n",
        "Let's use the model with the highest cross-validation accuracy score to make a prediction on the test dataset.\n",
        "\n",
        "We want to make predictions on the same columnns our model is trained on.\n",
        "\n",
        "So we have to select the subset of right columns of the test dateframe, encode them and make a prediciton with our model."
      ]
    },
    {
      "cell_type": "code",
      "metadata": {
        "colab": {
          "base_uri": "https://localhost:8080/",
          "height": 204
        },
        "id": "ium66exf0Kkd",
        "outputId": "a8f99396-cb04-44c1-83d5-3fbaf5b1597f"
      },
      "source": [
        "test = pd.read_csv('/content/gdrive/My Drive/Final_test.csv')\n",
        "test.head()"
      ],
      "execution_count": 39,
      "outputs": [
        {
          "output_type": "execute_result",
          "data": {
            "text/html": [
              "<div>\n",
              "<style scoped>\n",
              "    .dataframe tbody tr th:only-of-type {\n",
              "        vertical-align: middle;\n",
              "    }\n",
              "\n",
              "    .dataframe tbody tr th {\n",
              "        vertical-align: top;\n",
              "    }\n",
              "\n",
              "    .dataframe thead th {\n",
              "        text-align: right;\n",
              "    }\n",
              "</style>\n",
              "<table border=\"1\" class=\"dataframe\">\n",
              "  <thead>\n",
              "    <tr style=\"text-align: right;\">\n",
              "      <th></th>\n",
              "      <th>department</th>\n",
              "      <th>education</th>\n",
              "      <th>gender</th>\n",
              "      <th>recruitment_channel</th>\n",
              "      <th>no_of_trainings</th>\n",
              "      <th>previous_year_rating</th>\n",
              "      <th>length_of_service</th>\n",
              "      <th>KPIs_met &gt;80%</th>\n",
              "      <th>awards_won?</th>\n",
              "      <th>avg_training_score</th>\n",
              "    </tr>\n",
              "  </thead>\n",
              "  <tbody>\n",
              "    <tr>\n",
              "      <th>0</th>\n",
              "      <td>8</td>\n",
              "      <td>0</td>\n",
              "      <td>1</td>\n",
              "      <td>2</td>\n",
              "      <td>-0.423094</td>\n",
              "      <td>-0.266732</td>\n",
              "      <td>-1.143200</td>\n",
              "      <td>1.336715</td>\n",
              "      <td>-0.152665</td>\n",
              "      <td>1.024263</td>\n",
              "    </tr>\n",
              "    <tr>\n",
              "      <th>1</th>\n",
              "      <td>2</td>\n",
              "      <td>0</td>\n",
              "      <td>0</td>\n",
              "      <td>0</td>\n",
              "      <td>-0.423094</td>\n",
              "      <td>-0.266732</td>\n",
              "      <td>-0.192590</td>\n",
              "      <td>-0.748103</td>\n",
              "      <td>-0.152665</td>\n",
              "      <td>-0.914377</td>\n",
              "    </tr>\n",
              "    <tr>\n",
              "      <th>2</th>\n",
              "      <td>7</td>\n",
              "      <td>0</td>\n",
              "      <td>1</td>\n",
              "      <td>0</td>\n",
              "      <td>-0.423094</td>\n",
              "      <td>-1.907786</td>\n",
              "      <td>-0.430243</td>\n",
              "      <td>-0.748103</td>\n",
              "      <td>-0.152665</td>\n",
              "      <td>-1.212629</td>\n",
              "    </tr>\n",
              "    <tr>\n",
              "      <th>3</th>\n",
              "      <td>5</td>\n",
              "      <td>0</td>\n",
              "      <td>0</td>\n",
              "      <td>0</td>\n",
              "      <td>2.905264</td>\n",
              "      <td>-1.087259</td>\n",
              "      <td>0.758019</td>\n",
              "      <td>-0.748103</td>\n",
              "      <td>-0.152665</td>\n",
              "      <td>0.129506</td>\n",
              "    </tr>\n",
              "    <tr>\n",
              "      <th>4</th>\n",
              "      <td>1</td>\n",
              "      <td>0</td>\n",
              "      <td>1</td>\n",
              "      <td>2</td>\n",
              "      <td>-0.423094</td>\n",
              "      <td>0.553794</td>\n",
              "      <td>0.282714</td>\n",
              "      <td>-0.748103</td>\n",
              "      <td>-0.152665</td>\n",
              "      <td>-0.168746</td>\n",
              "    </tr>\n",
              "  </tbody>\n",
              "</table>\n",
              "</div>"
            ],
            "text/plain": [
              "   department  education  gender  recruitment_channel  no_of_trainings  \\\n",
              "0           8          0       1                    2        -0.423094   \n",
              "1           2          0       0                    0        -0.423094   \n",
              "2           7          0       1                    0        -0.423094   \n",
              "3           5          0       0                    0         2.905264   \n",
              "4           1          0       1                    2        -0.423094   \n",
              "\n",
              "   previous_year_rating  length_of_service  KPIs_met >80%  awards_won?  \\\n",
              "0             -0.266732          -1.143200       1.336715    -0.152665   \n",
              "1             -0.266732          -0.192590      -0.748103    -0.152665   \n",
              "2             -1.907786          -0.430243      -0.748103    -0.152665   \n",
              "3             -1.087259           0.758019      -0.748103    -0.152665   \n",
              "4              0.553794           0.282714      -0.748103    -0.152665   \n",
              "\n",
              "   avg_training_score  \n",
              "0            1.024263  \n",
              "1           -0.914377  \n",
              "2           -1.212629  \n",
              "3            0.129506  \n",
              "4           -0.168746  "
            ]
          },
          "metadata": {
            "tags": []
          },
          "execution_count": 39
        }
      ]
    },
    {
      "cell_type": "code",
      "metadata": {
        "id": "6KnfuCdW0Kkf"
      },
      "source": [
        "# Make predictions using RandomForest model on wanted columns.\n",
        "predictions = rf_search.predict(test[wanted_columns])"
      ],
      "execution_count": 41,
      "outputs": []
    },
    {
      "cell_type": "code",
      "metadata": {
        "colab": {
          "base_uri": "https://localhost:8080/"
        },
        "id": "juuHZeFj0Kkg",
        "outputId": "f3d2f91d-f821-4b16-9302-29e2432fbdb3"
      },
      "source": [
        "# Our predictions array is comprised of 0's and 1's.\n",
        "predictions[:30]"
      ],
      "execution_count": 42,
      "outputs": [
        {
          "output_type": "execute_result",
          "data": {
            "text/plain": [
              "array([1, 0, 0, 0, 0, 0, 1, 0, 0, 1, 1, 0, 0, 1, 1, 1, 0, 1, 1, 0, 0, 0,\n",
              "       0, 1, 1, 1, 1, 1, 0, 0])"
            ]
          },
          "metadata": {
            "tags": []
          },
          "execution_count": 42
        }
      ]
    },
    {
      "cell_type": "code",
      "metadata": {
        "colab": {
          "base_uri": "https://localhost:8080/",
          "height": 204
        },
        "id": "2RLphNep0Kkl",
        "outputId": "7af76cfc-d289-4638-f531-72be16eda6d6"
      },
      "source": [
        "pd.set_option('display.max_rows',100)\n",
        "df = pd.read_csv('/content/gdrive/My Drive/test.csv')\n",
        "\n",
        "# Create a dataframe and append the relevant colimns.\n",
        "submission = pd.DataFrame()\n",
        "submission['employee_id'] = df['employee_id']\n",
        "submission['is_promoted'] = predictions\n",
        "submission.head()"
      ],
      "execution_count": 44,
      "outputs": [
        {
          "output_type": "execute_result",
          "data": {
            "text/html": [
              "<div>\n",
              "<style scoped>\n",
              "    .dataframe tbody tr th:only-of-type {\n",
              "        vertical-align: middle;\n",
              "    }\n",
              "\n",
              "    .dataframe tbody tr th {\n",
              "        vertical-align: top;\n",
              "    }\n",
              "\n",
              "    .dataframe thead th {\n",
              "        text-align: right;\n",
              "    }\n",
              "</style>\n",
              "<table border=\"1\" class=\"dataframe\">\n",
              "  <thead>\n",
              "    <tr style=\"text-align: right;\">\n",
              "      <th></th>\n",
              "      <th>employee_id</th>\n",
              "      <th>is_promoted</th>\n",
              "    </tr>\n",
              "  </thead>\n",
              "  <tbody>\n",
              "    <tr>\n",
              "      <th>0</th>\n",
              "      <td>8724</td>\n",
              "      <td>1</td>\n",
              "    </tr>\n",
              "    <tr>\n",
              "      <th>1</th>\n",
              "      <td>74430</td>\n",
              "      <td>0</td>\n",
              "    </tr>\n",
              "    <tr>\n",
              "      <th>2</th>\n",
              "      <td>72255</td>\n",
              "      <td>0</td>\n",
              "    </tr>\n",
              "    <tr>\n",
              "      <th>3</th>\n",
              "      <td>38562</td>\n",
              "      <td>0</td>\n",
              "    </tr>\n",
              "    <tr>\n",
              "      <th>4</th>\n",
              "      <td>64486</td>\n",
              "      <td>0</td>\n",
              "    </tr>\n",
              "  </tbody>\n",
              "</table>\n",
              "</div>"
            ],
            "text/plain": [
              "   employee_id  is_promoted\n",
              "0         8724            1\n",
              "1        74430            0\n",
              "2        72255            0\n",
              "3        38562            0\n",
              "4        64486            0"
            ]
          },
          "metadata": {
            "tags": []
          },
          "execution_count": 44
        }
      ]
    },
    {
      "cell_type": "code",
      "metadata": {
        "colab": {
          "base_uri": "https://localhost:8080/"
        },
        "id": "UYqBAdFA0Kkn",
        "outputId": "abc0aec4-af3b-4a4b-b078-069b78d78d13"
      },
      "source": [
        "submission['is_promoted'].value_counts()"
      ],
      "execution_count": 45,
      "outputs": [
        {
          "output_type": "execute_result",
          "data": {
            "text/plain": [
              "0    13740\n",
              "1     9750\n",
              "Name: is_promoted, dtype: int64"
            ]
          },
          "metadata": {
            "tags": []
          },
          "execution_count": 45
        }
      ]
    },
    {
      "cell_type": "code",
      "metadata": {
        "colab": {
          "base_uri": "https://localhost:8080/"
        },
        "id": "qSgmFbtw0Kko",
        "outputId": "232508f1-e67a-4cfa-9e54-c5dabc68e93c"
      },
      "source": [
        "# Are our test and submission the same length?\n",
        "if len(submission) == len(test):\n",
        "    print('The submission and the test dataframes are of the same length')\n",
        "else:\n",
        "    print('Dataframes mismatched')"
      ],
      "execution_count": 46,
      "outputs": [
        {
          "output_type": "stream",
          "text": [
            "The submission and the test dataframes are of the same length\n"
          ],
          "name": "stdout"
        }
      ]
    },
    {
      "cell_type": "code",
      "metadata": {
        "colab": {
          "base_uri": "https://localhost:8080/"
        },
        "id": "SsScuduT0Kkq",
        "outputId": "0398ee32-58c5-43b7-9e57-a966cab99294"
      },
      "source": [
        "# convert submission dataframe to csv.\n",
        "submission.to_csv('/content/gdrive/My Drive/HR_Analytics.csv', index= False)\n",
        "print('Submission csv is ready')"
      ],
      "execution_count": 47,
      "outputs": [
        {
          "output_type": "stream",
          "text": [
            "Submission csv is ready\n"
          ],
          "name": "stdout"
        }
      ]
    },
    {
      "cell_type": "code",
      "metadata": {
        "id": "_2bnAuXS0Kkr"
      },
      "source": [
        ""
      ],
      "execution_count": null,
      "outputs": []
    },
    {
      "cell_type": "code",
      "metadata": {
        "id": "yzkhKR8p0Kkr"
      },
      "source": [
        ""
      ],
      "execution_count": null,
      "outputs": []
    }
  ]
}